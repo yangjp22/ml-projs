{
 "cells": [
  {
   "cell_type": "code",
   "execution_count": 1,
   "metadata": {
    "ExecuteTime": {
     "end_time": "2019-07-01T04:47:36.781683Z",
     "start_time": "2019-07-01T04:47:36.777690Z"
    }
   },
   "outputs": [],
   "source": [
    "import numpy as np"
   ]
  },
  {
   "cell_type": "code",
   "execution_count": 2,
   "metadata": {
    "ExecuteTime": {
     "end_time": "2019-07-01T05:15:30.171238Z",
     "start_time": "2019-07-01T05:15:30.159267Z"
    }
   },
   "outputs": [],
   "source": [
    "# define the sigmoid function\n",
    "def sigmoid(x):\n",
    "    return 1.0/(1 + np.exp(-x))\n",
    "\n",
    "# define the cost funtion\n",
    "def cost(xMat, yMat, Ws):\n",
    "    # the cost consists of two parts, y = 1 and y = 0 respectively.\n",
    "    left = np.multiply(yMat, np.log(sigmoid(xMat * Ws)))\n",
    "    right = np.multiply(1 - yMat, np.log(1 - sigmoid(xMat * Ws)))\n",
    "    return np.sum(left + right) / - len(xMat)\n",
    "\n",
    "# define the gradient ascent to adjust the weights\n",
    "def grad_ascent(xArr, yArr, lr = 0.001, epochs = 10000):\n",
    "    '''\n",
    "    input:\n",
    "        xArr: the features\n",
    "        yArr: the target variables, 0 or 1\n",
    "        lr: learning rate\n",
    "        epochs: the max number of iterations\n",
    "    \n",
    "    return:\n",
    "        the weights\n",
    "    \n",
    "    '''\n",
    "    \n",
    "    xMat = np.mat(xArr)\n",
    "    yMat = np.mat(yArr)\n",
    "    \n",
    "    # get the number of the rows and cols\n",
    "    row, col = np.shape(xMat)\n",
    "    # initialize the weights of 1, col * 1\n",
    "    Ws = np.mat(np.ones(col, 1))\n",
    "    \n",
    "    for i in range(epochs):\n",
    "        # calculate the y: row * 1\n",
    "        h = sigmoid(xMat * Ws)\n",
    "        # calculate the gradients\n",
    "        Ws_grad = xMat.T * (h - yMat) / row\n",
    "        # update the weights\n",
    "        Ws = Ws - lr * Ws_grad\n",
    "    \n",
    "    # return the weighs after iteration\n",
    "    return Ws"
   ]
  }
 ],
 "metadata": {
  "kernelspec": {
   "display_name": "Python 3",
   "language": "python",
   "name": "python3"
  },
  "language_info": {
   "codemirror_mode": {
    "name": "ipython",
    "version": 3
   },
   "file_extension": ".py",
   "mimetype": "text/x-python",
   "name": "python",
   "nbconvert_exporter": "python",
   "pygments_lexer": "ipython3",
   "version": "3.6.2"
  },
  "toc": {
   "base_numbering": 1,
   "nav_menu": {},
   "number_sections": true,
   "sideBar": true,
   "skip_h1_title": false,
   "title_cell": "Table of Contents",
   "title_sidebar": "Contents",
   "toc_cell": false,
   "toc_position": {},
   "toc_section_display": true,
   "toc_window_display": false
  },
  "varInspector": {
   "cols": {
    "lenName": 16,
    "lenType": 16,
    "lenVar": 40
   },
   "kernels_config": {
    "python": {
     "delete_cmd_postfix": "",
     "delete_cmd_prefix": "del ",
     "library": "var_list.py",
     "varRefreshCmd": "print(var_dic_list())"
    },
    "r": {
     "delete_cmd_postfix": ") ",
     "delete_cmd_prefix": "rm(",
     "library": "var_list.r",
     "varRefreshCmd": "cat(var_dic_list()) "
    }
   },
   "types_to_exclude": [
    "module",
    "function",
    "builtin_function_or_method",
    "instance",
    "_Feature"
   ],
   "window_display": false
  }
 },
 "nbformat": 4,
 "nbformat_minor": 2
}
