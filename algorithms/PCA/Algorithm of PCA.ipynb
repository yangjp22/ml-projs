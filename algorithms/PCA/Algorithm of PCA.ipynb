{
 "cells": [
  {
   "cell_type": "code",
   "execution_count": 1,
   "metadata": {
    "ExecuteTime": {
     "end_time": "2019-07-02T18:55:15.656403Z",
     "start_time": "2019-07-02T18:55:15.652415Z"
    }
   },
   "outputs": [],
   "source": [
    "import numpy as np"
   ]
  },
  {
   "cell_type": "code",
   "execution_count": 2,
   "metadata": {
    "ExecuteTime": {
     "end_time": "2019-07-02T18:55:16.978363Z",
     "start_time": "2019-07-02T18:55:16.972383Z"
    }
   },
   "outputs": [],
   "source": [
    "# centralize the data set\n",
    "def zeroMean(dataset):\n",
    "    '''\n",
    "    Parameters:\n",
    "        dataset: data set\n",
    "    \n",
    "    Return:\n",
    "        new_data: the data set after centralization\n",
    "        mean_val: the mean of each col, used for reconstructing data\n",
    "    '''\n",
    "    data_mat = np.mat(dataset)\n",
    "    mean_val = np.mean(data_mat, axis = 0) \n",
    "    new_data = data_mat - mean_val\n",
    "    return new_data, mean_val"
   ]
  },
  {
   "cell_type": "code",
   "execution_count": 3,
   "metadata": {
    "ExecuteTime": {
     "end_time": "2019-07-02T18:55:18.453045Z",
     "start_time": "2019-07-02T18:55:18.446063Z"
    }
   },
   "outputs": [],
   "source": [
    "def pca(dataset, k, recon = False):\n",
    "    '''\n",
    "    Instructure: reduce the dimensions of data set\n",
    "    \n",
    "    Parameters:\n",
    "        dataset: the dataset\n",
    "        k: the number of dimensions of the dataset after operation\n",
    "        recon: if there will reconstrute the data\n",
    "        \n",
    "    Return:\n",
    "        low_data: a new dataset with the dimension k\n",
    "        recon_data: the dataset after by reconstructing\n",
    "        \n",
    "    '''\n",
    "    # cnetralize the original dataset\n",
    "    new_data, mean_val = zeroMean(dataset)\n",
    "    \n",
    "    # get the covariance matrix by using np.cov, rowvar=0 means one row is one sample\n",
    "    cov_mat = np.cov(new_data, rowvar=0)\n",
    "    \n",
    "    # get the eigenvalues and eignevectors\n",
    "    eig_vals, eig_vects = np.linalg.eig(np.mat(cov_mat))\n",
    "    \n",
    "    # sort the eigenvalues from smallest to highest and get the index\n",
    "    eigval_Indice = np.argsort(eig_vals)\n",
    "    \n",
    "    # get the top k eigval index\n",
    "    k_eigval_Indice = eigval_Indice[-1: -(k + 1): -1]\n",
    "    \n",
    "    # get the corresponding eigenvectors\n",
    "    k_eigvect = eig_vects[:,k_eigval_Indice]\n",
    "    \n",
    "    # get the lower dimension data\n",
    "    low_data = new_data * k_eigvect\n",
    "    \n",
    "    if recon:\n",
    "        # reconstructe the data\n",
    "        recon_data = np.array((low_data * k_eigvect.T) + mean_val)\n",
    "        return low_data, recon_data\n",
    "\n",
    "    else:\n",
    "        return low_data"
   ]
  }
 ],
 "metadata": {
  "kernelspec": {
   "display_name": "Python 3",
   "language": "python",
   "name": "python3"
  },
  "language_info": {
   "codemirror_mode": {
    "name": "ipython",
    "version": 3
   },
   "file_extension": ".py",
   "mimetype": "text/x-python",
   "name": "python",
   "nbconvert_exporter": "python",
   "pygments_lexer": "ipython3",
   "version": "3.6.2"
  },
  "toc": {
   "base_numbering": 1,
   "nav_menu": {},
   "number_sections": true,
   "sideBar": true,
   "skip_h1_title": false,
   "title_cell": "Table of Contents",
   "title_sidebar": "Contents",
   "toc_cell": false,
   "toc_position": {},
   "toc_section_display": true,
   "toc_window_display": false
  },
  "varInspector": {
   "cols": {
    "lenName": 16,
    "lenType": 16,
    "lenVar": 40
   },
   "kernels_config": {
    "python": {
     "delete_cmd_postfix": "",
     "delete_cmd_prefix": "del ",
     "library": "var_list.py",
     "varRefreshCmd": "print(var_dic_list())"
    },
    "r": {
     "delete_cmd_postfix": ") ",
     "delete_cmd_prefix": "rm(",
     "library": "var_list.r",
     "varRefreshCmd": "cat(var_dic_list()) "
    }
   },
   "types_to_exclude": [
    "module",
    "function",
    "builtin_function_or_method",
    "instance",
    "_Feature"
   ],
   "window_display": false
  }
 },
 "nbformat": 4,
 "nbformat_minor": 2
}
