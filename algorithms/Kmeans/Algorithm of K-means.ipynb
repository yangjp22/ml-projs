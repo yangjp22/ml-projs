{
 "cells": [
  {
   "cell_type": "code",
   "execution_count": 1,
   "metadata": {
    "ExecuteTime": {
     "end_time": "2019-07-02T00:17:19.323683Z",
     "start_time": "2019-07-02T00:17:19.204001Z"
    }
   },
   "outputs": [],
   "source": [
    "import numpy as np"
   ]
  },
  {
   "cell_type": "code",
   "execution_count": 2,
   "metadata": {
    "ExecuteTime": {
     "end_time": "2019-07-02T00:17:20.110596Z",
     "start_time": "2019-07-02T00:17:20.104616Z"
    }
   },
   "outputs": [],
   "source": [
    "# calculate the distance between two points\n",
    "def euclDistance(point_1, point_2): \n",
    "    point_1, point_2 = np.array(point_1), np.array(point_2)\n",
    "    return np.sqrt(np.sum((point_1 - point_2) ** 2))"
   ]
  },
  {
   "cell_type": "code",
   "execution_count": 3,
   "metadata": {
    "ExecuteTime": {
     "end_time": "2019-07-02T00:17:21.704368Z",
     "start_time": "2019-07-02T00:17:21.695393Z"
    }
   },
   "outputs": [],
   "source": [
    "# initialize the central points randomly\n",
    "def initCentroids(dataset, k):  \n",
    "    '''\n",
    "    Instructions: initialize the central points randomly\n",
    "    \n",
    "    Parameters:\n",
    "        dataset: the training set\n",
    "        k: number of centers\n",
    "    \n",
    "    Return:\n",
    "        the coordinates of center\n",
    "    '''\n",
    "    num_samples, cols = dataset.shape\n",
    "    # k centers, and the number of cols equals to that of dataset\n",
    "    centroids = np.zeros((k, cols))\n",
    "    \n",
    "    for i in range(k):  \n",
    "        # pick an index randomly\n",
    "        index = int(np.random.uniform(0, num_samples))\n",
    "        centroids[i, :] = dataset[index, :]  \n",
    "    return centroids  "
   ]
  },
  {
   "cell_type": "code",
   "execution_count": 4,
   "metadata": {
    "ExecuteTime": {
     "end_time": "2019-07-02T00:17:24.283525Z",
     "start_time": "2019-07-02T00:17:24.272556Z"
    }
   },
   "outputs": [],
   "source": [
    "def kmeans(data, k):  \n",
    "    '''\n",
    "    Instructions: training the dataset into k clusters\n",
    "    \n",
    "    Parameters:\n",
    "        data: the training set\n",
    "        k: the number of clusters\n",
    "    \n",
    "    Return:\n",
    "        centroids: the value of cluster center \n",
    "        clusterData: the data belongs to each cluster\n",
    "    '''\n",
    "    #  get the number of samples\n",
    "    num_samples = data.shape[0]   \n",
    "    # create an array to store the attributes of dataset, first col records the belonging cluster, second col records the error between \n",
    "    # the sample and cluster center\n",
    "    cluster_data = np.zeros((num_samples, 2)) \n",
    "    # create a flag to judge if the center changes, default is true\n",
    "    cluster_changed = True  \n",
    "  \n",
    "    # initialize the cluster center \n",
    "    centroids = initCentroids(data, k)  \n",
    "  \n",
    "    while cluster_changed:  \n",
    "        cluster_changed = False  \n",
    "        \n",
    "        for i in range(num_samples):  \n",
    "            # define a minmium distance \n",
    "            minDist  = 100000.0  \n",
    "            # used for the index of cluster\n",
    "            minIndex = 0  \n",
    "            # calculate the distance between sample and each cluster center\n",
    "            for j in range(k):  \n",
    "                distance = euclDistance(centroids[j,:], data[i,:])\n",
    "                # update the minmium and the belonged center\n",
    "                if distance < minDist:  \n",
    "                    # store the current minmiun distance into the second col\n",
    "                    minDist  = distance \n",
    "                    cluster_data[1, 1] = minDist\n",
    "                    # update the cluster\n",
    "                    minIndex = j  \n",
    "              \n",
    "            # if the belonged cluster changed, then update it into the first col of cluster_data\n",
    "            if cluster_data[i, 0] != minIndex:\n",
    "                # the centers should be updated again!\n",
    "                cluster_changed = True\n",
    "                # update the cluster for sample i.\n",
    "                cluster_data[i, 0] = minIndex\n",
    "  \n",
    "        # calculate the new cluster center after iter each sample\n",
    "        for j in range(k):\n",
    "            # get the all points belongs to cluster j\n",
    "            pointsInCluster  = data[cluster_data[:, 0] == j, :]\n",
    "            # calculate the center \n",
    "            centroids[j, :] = np.mean(pointsInCluster, axis = 0) \n",
    "\n",
    "    return centroids, cluster_data  "
   ]
  },
  {
   "cell_type": "code",
   "execution_count": 5,
   "metadata": {
    "ExecuteTime": {
     "end_time": "2019-07-02T00:17:29.788024Z",
     "start_time": "2019-07-02T00:17:29.779020Z"
    }
   },
   "outputs": [],
   "source": [
    "def showCluster(data, k, centroids, clusterData):  \n",
    "    '''\n",
    "    Instructions: Visualize the dataSet and clusters\n",
    "    \n",
    "    Parameters:\n",
    "        data: the training set\n",
    "        k: the number of clusters\n",
    "        centroids: the cluster centers\n",
    "        clusterData: the attributes of samples, first col records the belonging cluster, second col records the error between the sample and cluster center\n",
    "    \n",
    "    '''\n",
    "    \n",
    "    num_samples, cols= data.shape  \n",
    "    if cols != 2:  \n",
    "        print(\"dimension of your data is not 2!\")  \n",
    "        return 1  \n",
    "  \n",
    "    # using the different colors and shapes to represent each samples\n",
    "    mark = ['or', 'ob', 'og', 'ok', '^r', '+r', 'sr', 'dr', '<r', 'pr']  \n",
    "    if k > len(mark):  \n",
    "        print(\"Your k is too large!\")  \n",
    "        return 1  \n",
    "  \n",
    "    # plot the sample point \n",
    "    for i in range(num_samples):  \n",
    "        markIndex = int(clusterData[i, 0])  \n",
    "        plt.plot(data[i, 0], data[i, 1], mark[markIndex])  \n",
    "  \n",
    "    # using the different colors and shapes to represent each clusters\n",
    "    mark = ['*r', '*b', '*g', '*k', '^b', '+b', 'sb', 'db', '<b', 'pb']  \n",
    "    for i in range(k):  \n",
    "        plt.plot(centroids[i, 0], centroids[i, 1], mark[i], markersize = 20)  \n",
    "    plt.show()"
   ]
  },
  {
   "cell_type": "code",
   "execution_count": 6,
   "metadata": {
    "ExecuteTime": {
     "end_time": "2019-07-02T00:17:31.894404Z",
     "start_time": "2019-07-02T00:17:31.888420Z"
    }
   },
   "outputs": [],
   "source": [
    "def prediction(testset, centroids):\n",
    "    '''\n",
    "    Instructions: predict the cluster of testset\n",
    "    \n",
    "    Parameters:\n",
    "        test: the testing set\n",
    "        centroids: the cluster center\n",
    "    \n",
    "    Return:\n",
    "        the cluster index for each testing points\n",
    "    '''\n",
    "    return np.array([np.argmin(np.sum((np.tile(point, (len(centroids), 1)) - centroids) ** 2, axis = 1)) for point in testset])"
   ]
  },
  {
   "cell_type": "code",
   "execution_count": 7,
   "metadata": {
    "ExecuteTime": {
     "end_time": "2019-07-02T00:17:33.416367Z",
     "start_time": "2019-07-02T00:17:33.409386Z"
    }
   },
   "outputs": [],
   "source": [
    "def plot_decision_boundary(predict, data, centroids, clusterData):\n",
    "    '''\n",
    "    Instructions: plot the clusters and the boundary\n",
    "    \n",
    "    Parameters:\n",
    "        predict: the model after training\n",
    "        data: the original data\n",
    "        centroids: the cluster center\n",
    "        clusterData: the attributers of each sample\n",
    "    \n",
    "    ''' \n",
    "    x_min, x_max = data[:, 0].min() - 1, data[:, 0].max() + 1\n",
    "    y_min, y_max = data[:, 1].min() - 1, data[:, 1].max() + 1\n",
    "\n",
    "    # 生成网格矩阵\n",
    "    xx, yy = np.meshgrid(np.arange(x_min, x_max, 0.02),\n",
    "                         np.arange(y_min, y_max, 0.02))\n",
    "\n",
    "    z = predict(np.c_[xx.ravel(), yy.ravel()], centroids=centroids)# ravel与flatten类似，多维数据转一维。flatten不会改变原始数据，ravel会改变原始数据\n",
    "    z = z.reshape(xx.shape)\n",
    "    # 等高线图\n",
    "    cs = plt.contourf(xx, yy, z)\n",
    "    # 显示结果\n",
    "    showCluster(data, k, centroids, clusterData)  "
   ]
  }
 ],
 "metadata": {
  "kernelspec": {
   "display_name": "Python 3",
   "language": "python",
   "name": "python3"
  },
  "toc": {
   "base_numbering": 1,
   "nav_menu": {},
   "number_sections": true,
   "sideBar": true,
   "skip_h1_title": false,
   "title_cell": "Table of Contents",
   "title_sidebar": "Contents",
   "toc_cell": false,
   "toc_position": {},
   "toc_section_display": true,
   "toc_window_display": false
  },
  "varInspector": {
   "cols": {
    "lenName": 16,
    "lenType": 16,
    "lenVar": 40
   },
   "kernels_config": {
    "python": {
     "delete_cmd_postfix": "",
     "delete_cmd_prefix": "del ",
     "library": "var_list.py",
     "varRefreshCmd": "print(var_dic_list())"
    },
    "r": {
     "delete_cmd_postfix": ") ",
     "delete_cmd_prefix": "rm(",
     "library": "var_list.r",
     "varRefreshCmd": "cat(var_dic_list()) "
    }
   },
   "types_to_exclude": [
    "module",
    "function",
    "builtin_function_or_method",
    "instance",
    "_Feature"
   ],
   "window_display": false
  }
 },
 "nbformat": 4,
 "nbformat_minor": 2
}
