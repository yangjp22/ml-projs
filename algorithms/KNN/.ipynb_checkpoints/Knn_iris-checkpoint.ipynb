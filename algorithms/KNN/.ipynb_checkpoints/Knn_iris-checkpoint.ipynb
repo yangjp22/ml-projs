{
 "cells": [
  {
   "cell_type": "code",
   "execution_count": 9,
   "metadata": {
    "ExecuteTime": {
     "end_time": "2019-06-30T05:04:29.381862Z",
     "start_time": "2019-06-30T05:04:29.161352Z"
    }
   },
   "outputs": [],
   "source": [
    "# import packages and dateset\n",
    "import numpy as np\n",
    "from sklearn import datasets\n",
    "from sklearn.model_selection import train_test_split\n",
    "from sklearn.metrics import classification_report,confusion_matrix\n",
    "import random\n",
    "from matplotlib import pyplot as plt"
   ]
  },
  {
   "cell_type": "code",
   "execution_count": 3,
   "metadata": {
    "ExecuteTime": {
     "end_time": "2019-06-30T04:42:01.439029Z",
     "start_time": "2019-06-30T04:42:01.430054Z"
    }
   },
   "outputs": [],
   "source": [
    "def knn(inX, dataSet, labels, k):\n",
    "    '''\n",
    "    input: \n",
    "       inX: the data point for test\n",
    "       dataSet: dataset with exsiting labels\n",
    "       labels: tags corresponding to the data in dataSet\n",
    "       k: the number of nearest neighbors\n",
    "    \n",
    "    return: the label of data point after classification\n",
    "    '''\n",
    "    \n",
    "    # get the number of rows \n",
    "    row = dataSet.shape[0]\n",
    "    \n",
    "    # copy the data point to new dataset with the same rows number with dataSet\n",
    "    # calculate the difference between these two set\n",
    "    diffMatrix = np.tile(inX, (row, 1)) - dataSet\n",
    "    \n",
    "    # get the Euclidean distance\n",
    "    innerDist = np.sum(diffMatrix ** 2, axis=1)\n",
    "    distance = innerDist ** 0.5\n",
    "    \n",
    "    # sort the distances from the smallest distance to largest distanceand get the corresponding index\n",
    "    sortedDist = distance.argsort()   \n",
    "\n",
    "    # initialize a new dict to record the count of labels\n",
    "    countDict = {}\n",
    "    for i in range(k):\n",
    "        iLable = labels[sortedDist[i]]\n",
    "        countDict[iLable] = countDict.get(iLable, 0) + 1\n",
    "    \n",
    "    # sort the records according to the counts\n",
    "    result = sorted(countDict.items(), key = lambda x: x[1], reverse=True)\n",
    "    \n",
    "    # return the fianl label for the data point\n",
    "    return result[0][0]"
   ]
  },
  {
   "cell_type": "code",
   "execution_count": 4,
   "metadata": {
    "ExecuteTime": {
     "end_time": "2019-06-30T04:42:04.135816Z",
     "start_time": "2019-06-30T04:42:04.116867Z"
    }
   },
   "outputs": [],
   "source": [
    "# loading the iris dataset\n",
    "iris = datasets.load_iris()\n",
    "\n",
    "#shuffle the dataset randomly\n",
    "data_size = iris.data.shape[0]\n",
    "index = [i for i in range(data_size)] \n",
    "random.shuffle(index)  \n",
    "iris.data = iris.data[index]\n",
    "iris.target = iris.target[index]\n",
    "\n",
    "# split the dataset into training set and testing set\n",
    "test_size = 40\n",
    "x_train = iris.data[test_size:]\n",
    "x_test =  iris.data[:test_size]\n",
    "y_train = iris.target[test_size:]\n",
    "y_test = iris.target[:test_size]"
   ]
  },
  {
   "cell_type": "code",
   "execution_count": 5,
   "metadata": {
    "ExecuteTime": {
     "end_time": "2019-06-30T04:43:41.433645Z",
     "start_time": "2019-06-30T04:43:41.409709Z"
    }
   },
   "outputs": [
    {
     "name": "stdout",
     "output_type": "stream",
     "text": [
      "              precision    recall  f1-score   support\n",
      "\n",
      "           0       1.00      1.00      1.00        12\n",
      "           1       1.00      0.94      0.97        18\n",
      "           2       0.91      1.00      0.95        10\n",
      "\n",
      "   micro avg       0.97      0.97      0.97        40\n",
      "   macro avg       0.97      0.98      0.97        40\n",
      "weighted avg       0.98      0.97      0.98        40\n",
      "\n"
     ]
    }
   ],
   "source": [
    "# initialize a list to store the fianl labels of each data point in testing set\n",
    "predictions = []\n",
    "for i in range(x_test.shape[0]):\n",
    "    # apply the knn function and k equals to 5\n",
    "    predictions.append(knn(x_test[i], x_train, y_train, 5))\n",
    "\n",
    "print(classification_report(y_test, predictions))"
   ]
  },
  {
   "cell_type": "code",
   "execution_count": 6,
   "metadata": {
    "ExecuteTime": {
     "end_time": "2019-06-30T04:44:12.696050Z",
     "start_time": "2019-06-30T04:44:12.682088Z"
    }
   },
   "outputs": [
    {
     "name": "stdout",
     "output_type": "stream",
     "text": [
      "[[12  0  0]\n",
      " [ 0 17  1]\n",
      " [ 0  0 10]]\n"
     ]
    }
   ],
   "source": [
    "# print the confusion matrix\n",
    "print(confusion_matrix(y_test,predictions))"
   ]
  },
  {
   "cell_type": "code",
   "execution_count": 14,
   "metadata": {
    "ExecuteTime": {
     "end_time": "2019-06-30T05:07:25.992509Z",
     "start_time": "2019-06-30T05:07:25.942644Z"
    }
   },
   "outputs": [],
   "source": [
    "# create an empty list to store the accuracy for each choosen k\n",
    "accuracy = []\n",
    "# Choose the proper k between 1 and 20 for the classification\n",
    "for k in range(1, 21):\n",
    "    predictions = []\n",
    "    for i in range(x_test.shape[0]):\n",
    "        predictions.append(knn(x_test[i], x_train, y_train, k))\n",
    "    predictions = np.array(predictions)\n",
    "    \n",
    "    # calculate the accuracy for the current k\n",
    "    accuracy_k = np.round(np.average(predictions == y_test), 3)\n",
    "    # append it into accuracy list\n",
    "    accuracy.append(accuracy_k)"
   ]
  },
  {
   "cell_type": "code",
   "execution_count": 16,
   "metadata": {
    "ExecuteTime": {
     "end_time": "2019-06-30T05:09:31.191730Z",
     "start_time": "2019-06-30T05:09:30.987280Z"
    }
   },
   "outputs": [
    {
     "data": {
      "text/plain": [
       "Text(0, 0.5, 'Accuracy')"
      ]
     },
     "execution_count": 16,
     "metadata": {},
     "output_type": "execute_result"
    },
    {
     "data": {
      "image/png": "[encoded data removed]",
      "text/plain": [
       "<Figure size 432x288 with 1 Axes>"
      ]
     },
     "metadata": {
      "needs_background": "light"
     },
     "output_type": "display_data"
    }
   ],
   "source": [
    "# plot the relationship between accuracy corresponding k\n",
    "plt.plot(accuracy,'o')\n",
    "plt.xlabel('Parameter k')\n",
    "plt.ylabel('Accuracy')"
   ]
  }
 ],
 "metadata": {
  "anaconda-cloud": {},
  "kernelspec": {
   "display_name": "Python 3",
   "language": "python",
   "name": "python3"
  },
  "language_info": {
   "codemirror_mode": {
    "name": "ipython",
    "version": 3
   },
   "file_extension": ".py",
   "mimetype": "text/x-python",
   "name": "python",
   "nbconvert_exporter": "python",
   "pygments_lexer": "ipython3",
   "version": "3.6.2"
  },
  "toc": {
   "base_numbering": 1,
   "nav_menu": {},
   "number_sections": true,
   "sideBar": true,
   "skip_h1_title": false,
   "title_cell": "Table of Contents",
   "title_sidebar": "Contents",
   "toc_cell": false,
   "toc_position": {},
   "toc_section_display": true,
   "toc_window_display": false
  },
  "varInspector": {
   "cols": {
    "lenName": 16,
    "lenType": 16,
    "lenVar": 40
   },
   "kernels_config": {
    "python": {
     "delete_cmd_postfix": "",
     "delete_cmd_prefix": "del ",
     "library": "var_list.py",
     "varRefreshCmd": "print(var_dic_list())"
    },
    "r": {
     "delete_cmd_postfix": ") ",
     "delete_cmd_prefix": "rm(",
     "library": "var_list.r",
     "varRefreshCmd": "cat(var_dic_list()) "
    }
   },
   "types_to_exclude": [
    "module",
    "function",
    "builtin_function_or_method",
    "instance",
    "_Feature"
   ],
   "window_display": false
  }
 },
 "nbformat": 4,
 "nbformat_minor": 1
}
