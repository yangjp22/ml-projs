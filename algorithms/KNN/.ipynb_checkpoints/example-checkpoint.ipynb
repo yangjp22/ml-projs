{
 "cells": [
  {
   "cell_type": "code",
   "execution_count": 1,
   "metadata": {
    "ExecuteTime": {
     "end_time": "2019-07-01T15:44:54.734764Z",
     "start_time": "2019-07-01T15:44:53.679493Z"
    }
   },
   "outputs": [],
   "source": [
    "import pandas as pd\n",
    "import numpy as np\n",
    "from matplotlib import pyplot as plt"
   ]
  },
  {
   "cell_type": "code",
   "execution_count": 2,
   "metadata": {
    "ExecuteTime": {
     "end_time": "2019-07-01T15:44:55.932468Z",
     "start_time": "2019-07-01T15:44:55.923493Z"
    }
   },
   "outputs": [],
   "source": [
    "def knn(inX, dataSet, labels, k):\n",
    "    '''\n",
    "    input: \n",
    "       inX: the data point for test\n",
    "       dataSet: dataset with exsiting labels\n",
    "       labels: tags corresponding to the data in dataSet\n",
    "       k: the number of nearest neighbors\n",
    "    \n",
    "    return: the label of data point after classification\n",
    "    '''\n",
    "    \n",
    "    # get the number of rows \n",
    "    row = dataSet.shape[0]\n",
    "    \n",
    "    # copy the data point to new dataset with the same rows number with dataSet\n",
    "    # calculate the difference between these two set\n",
    "    diffMatrix = np.tile(inX, (row, 1)) - dataSet\n",
    "    \n",
    "    # get the Euclidean distance\n",
    "    innerDist = np.sum(diffMatrix ** 2, axis=1)\n",
    "    distance = innerDist ** 0.5\n",
    "    \n",
    "    # sort the distances from the smallest distance to largest distanceand get the corresponding index\n",
    "    sortedDist = distance.argsort()   \n",
    "\n",
    "    # initialize a new dict to record the count of labels\n",
    "    countDict = {}\n",
    "    for i in range(k):\n",
    "        iLable = labels[sortedDist[i]]\n",
    "        countDict[iLable] = countDict.get(iLable, 0) + 1\n",
    "    \n",
    "    # sort the records according to the counts\n",
    "    result = sorted(countDict.items(), key = lambda x: x[1], reverse=True)\n",
    "    \n",
    "    # return the fianl label for the data point\n",
    "    return result[0][0]"
   ]
  },
  {
   "cell_type": "code",
   "execution_count": 3,
   "metadata": {
    "ExecuteTime": {
     "end_time": "2019-07-01T15:45:00.086362Z",
     "start_time": "2019-07-01T15:45:00.079380Z"
    }
   },
   "outputs": [],
   "source": [
    "def createDataSet():     # create dataset for testing\n",
    "    group = np.array([[1.0,1.1],[1.0,1.0],[0,0],[0,0.1]])\n",
    "    labels = ['A','A','B','B']\n",
    "    return group, labels\n",
    "\n",
    "data, label = createDataSet()"
   ]
  },
  {
   "cell_type": "code",
   "execution_count": 4,
   "metadata": {
    "ExecuteTime": {
     "end_time": "2019-07-01T15:45:04.635198Z",
     "start_time": "2019-07-01T15:45:04.484603Z"
    }
   },
   "outputs": [
    {
     "data": {
      "text/plain": [
       "<matplotlib.collections.PathCollection at 0x249f7398c18>"
      ]
     },
     "execution_count": 4,
     "metadata": {},
     "output_type": "execute_result"
    },
    {
     "data": {
      "image/png": "[encoded data removed]",
      "text/plain": [
       "<Figure size 432x288 with 1 Axes>"
      ]
     },
     "metadata": {
      "needs_background": "light"
     },
     "output_type": "display_data"
    }
   ],
   "source": [
    "test_point = [0.9,0.8]\n",
    "x = np.append(data[:,0], test_point[0])\n",
    "y = np.append(data[:,1], test_point[1])\n",
    "plt.scatter(x, y)"
   ]
  },
  {
   "cell_type": "code",
   "execution_count": 5,
   "metadata": {
    "ExecuteTime": {
     "end_time": "2019-07-01T15:45:07.306055Z",
     "start_time": "2019-07-01T15:45:07.300073Z"
    }
   },
   "outputs": [
    {
     "name": "stdout",
     "output_type": "stream",
     "text": [
      "A\n"
     ]
    }
   ],
   "source": [
    "print(knn(test_point, data, label, k=3))"
   ]
  }
 ],
 "metadata": {
  "kernelspec": {
   "display_name": "Python 3",
   "language": "python",
   "name": "python3"
  },
  "language_info": {
   "codemirror_mode": {
    "name": "ipython",
    "version": 3
   },
   "file_extension": ".py",
   "mimetype": "text/x-python",
   "name": "python",
   "nbconvert_exporter": "python",
   "pygments_lexer": "ipython3",
   "version": "3.6.2"
  },
  "toc": {
   "base_numbering": 1,
   "nav_menu": {},
   "number_sections": true,
   "sideBar": true,
   "skip_h1_title": false,
   "title_cell": "Table of Contents",
   "title_sidebar": "Contents",
   "toc_cell": false,
   "toc_position": {},
   "toc_section_display": true,
   "toc_window_display": false
  },
  "varInspector": {
   "cols": {
    "lenName": 16,
    "lenType": 16,
    "lenVar": 40
   },
   "kernels_config": {
    "python": {
     "delete_cmd_postfix": "",
     "delete_cmd_prefix": "del ",
     "library": "var_list.py",
     "varRefreshCmd": "print(var_dic_list())"
    },
    "r": {
     "delete_cmd_postfix": ") ",
     "delete_cmd_prefix": "rm(",
     "library": "var_list.r",
     "varRefreshCmd": "cat(var_dic_list()) "
    }
   },
   "types_to_exclude": [
    "module",
    "function",
    "builtin_function_or_method",
    "instance",
    "_Feature"
   ],
   "window_display": false
  }
 },
 "nbformat": 4,
 "nbformat_minor": 2
}
