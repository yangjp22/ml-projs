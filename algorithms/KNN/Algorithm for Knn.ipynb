{
 "cells": [
  {
   "cell_type": "code",
   "execution_count": 1,
   "metadata": {
    "ExecuteTime": {
     "end_time": "2019-06-30T04:31:31.406165Z",
     "start_time": "2019-06-30T04:31:31.403172Z"
    }
   },
   "outputs": [],
   "source": [
    "import numpy as np"
   ]
  },
  {
   "cell_type": "code",
   "execution_count": 2,
   "metadata": {
    "ExecuteTime": {
     "end_time": "2019-06-30T04:31:33.356977Z",
     "start_time": "2019-06-30T04:31:33.349967Z"
    }
   },
   "outputs": [],
   "source": [
    "def knn(inX, dataSet, labels, k):\n",
    "    '''\n",
    "    input: \n",
    "       inX: the data point for test\n",
    "       dataSet: dataset with exsiting labels\n",
    "       labels: tags corresponding to the data in dataSet\n",
    "       k: the number of nearest neighbors\n",
    "    \n",
    "    return: the label of data point after classification\n",
    "    '''\n",
    "    \n",
    "    # get the number of rows \n",
    "    row = dataSet.shape[0]\n",
    "    \n",
    "    # copy the data point to new dataset with the same rows number with dataSet\n",
    "    # calculate the difference between these two set\n",
    "    diffMatrix = np.tile(inX, (row, 1)) - dataSet\n",
    "    \n",
    "    # get the Euclidean distance\n",
    "    innerDist = np.sum(diffMatrix ** 2, axis=1)\n",
    "    distance = innerDist ** 0.5\n",
    "    \n",
    "    # sort the distances from the smallest distance to largest distanceand get the corresponding index\n",
    "    sortedDist = distance.argsort()   \n",
    "\n",
    "    # initialize a new dict to record the count of labels\n",
    "    countDict = {}\n",
    "    for i in range(k):\n",
    "        iLable = labels[sortedDist[i]]\n",
    "        countDict[iLable] = countDict.get(iLable, 0) + 1\n",
    "    \n",
    "    # sort the records according to the counts\n",
    "    result = sorted(countDict.items(), key = lambda x: x[1], reverse=True)\n",
    "    \n",
    "    # return the fianl label for the data point\n",
    "    return result[0][0]"
   ]
  }
 ],
 "metadata": {
  "kernelspec": {
   "display_name": "Python 3",
   "language": "python",
   "name": "python3"
  },
  "language_info": {
   "codemirror_mode": {
    "name": "ipython",
    "version": 3
   },
   "file_extension": ".py",
   "mimetype": "text/x-python",
   "name": "python",
   "nbconvert_exporter": "python",
   "pygments_lexer": "ipython3",
   "version": "3.6.2"
  },
  "toc": {
   "base_numbering": 1,
   "nav_menu": {},
   "number_sections": true,
   "sideBar": true,
   "skip_h1_title": false,
   "title_cell": "Table of Contents",
   "title_sidebar": "Contents",
   "toc_cell": false,
   "toc_position": {},
   "toc_section_display": true,
   "toc_window_display": false
  },
  "varInspector": {
   "cols": {
    "lenName": 16,
    "lenType": 16,
    "lenVar": 40
   },
   "kernels_config": {
    "python": {
     "delete_cmd_postfix": "",
     "delete_cmd_prefix": "del ",
     "library": "var_list.py",
     "varRefreshCmd": "print(var_dic_list())"
    },
    "r": {
     "delete_cmd_postfix": ") ",
     "delete_cmd_prefix": "rm(",
     "library": "var_list.r",
     "varRefreshCmd": "cat(var_dic_list()) "
    }
   },
   "types_to_exclude": [
    "module",
    "function",
    "builtin_function_or_method",
    "instance",
    "_Feature"
   ],
   "window_display": false
  }
 },
 "nbformat": 4,
 "nbformat_minor": 2
}
