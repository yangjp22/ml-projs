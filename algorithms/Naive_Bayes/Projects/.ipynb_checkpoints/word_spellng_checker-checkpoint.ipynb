{
 "cells": [
  {
   "cell_type": "markdown",
   "metadata": {},
   "source": [
    "Among all the correct spelling, we need to find a correc word C, makes that the prob of spelling W comes to the maxium.\n",
    "It equals to the maxmium the prob: P(c|w) -> P(w|c) * P(c) / P(w)\n",
    "\n",
    "For example: spellig 'appla' is W，words 'apple' and 'apply' are the correct words C,\n",
    "    As for apple and apply, the P(w) are the same, so we can ignore this item to P(w|c) * P(c) \n",
    "\n",
    "P(c), is the prob of spelling word C correctly in documents, in an another way, is the  prob of C in the documents.\n",
    "We can assume that the higher prob of occuring in the documents, the higher prob of spelling correctly. So using the appearance counts of the occurance to be as this number。\n",
    "\n",
    "P(w|c), is the prob of spelling to W wrongly when users want to spell C."
   ]
  },
  {
   "cell_type": "code",
   "execution_count": 1,
   "metadata": {
    "ExecuteTime": {
     "end_time": "2019-07-01T19:51:43.714583Z",
     "start_time": "2019-07-01T19:51:42.655317Z"
    }
   },
   "outputs": [
    {
     "name": "stdout",
     "output_type": "stream",
     "text": [
      "29154\n"
     ]
    }
   ],
   "source": [
    "import re\n",
    "# read the word collections\n",
    "text = open('big.txt').read()\n",
    "# only keep the a-z format words\n",
    "text = re.findall('[a-z]+', text.lower())\n",
    "# store the counts of correct words\n",
    "dict_words = {}\n",
    "for t in text:\n",
    "    dict_words[t] = dict_words.get(t,0) + 1\n",
    "\n",
    "print(len(dict_words))"
   ]
  },
  {
   "cell_type": "markdown",
   "metadata": {},
   "source": [
    "Editing the distance between two words\n",
    "\n",
    "The distance between two words can be defined as the number of needed operations in order to change one into another one.\n",
    "The operation includes insertion, deletion,transposition (change the letter order in word) and alteration."
   ]
  },
  {
   "cell_type": "code",
   "execution_count": 2,
   "metadata": {
    "ExecuteTime": {
     "end_time": "2019-07-01T19:51:46.537279Z",
     "start_time": "2019-07-01T19:51:46.530296Z"
    }
   },
   "outputs": [],
   "source": [
    "alphabet = 'abcdefghijklmnopqrstuvwxyz'\n",
    "\n",
    "# return all words within distance 1 of word\n",
    "def edits1(word):\n",
    "    n = len(word)\n",
    "    return set([word[0:i] + word[i+1:] for i in range(n)] +                     # deletion\n",
    "               [word[0:i] + word[i+1] + word[i] + word[i+2:] for i in range(n-1)] + # transposition\n",
    "               [word[0:i] + c + word[i+1:] for i in range(n) for c in alphabet] + # alteration\n",
    "               [word[0:i] + c + word[i:] for i in range(n+1) for c in alphabet])  # insertion"
   ]
  },
  {
   "cell_type": "code",
   "execution_count": 3,
   "metadata": {
    "ExecuteTime": {
     "end_time": "2019-07-01T19:51:48.941125Z",
     "start_time": "2019-07-01T19:51:48.936109Z"
    }
   },
   "outputs": [],
   "source": [
    "# eturn all words within distance 2 of word, iteration of 2 - times is ok!\n",
    "def edits2(word):\n",
    "    return set(e2 for e1 in edits1(word) for e2 in edits1(e1))\n",
    "\n",
    "# as for the words within less 2 distance of the word, only choose the correct words\n",
    "def known(words):\n",
    "    w = set()\n",
    "    for word in words:\n",
    "        if word in dict_words:\n",
    "            w.add(word)\n",
    "    return w"
   ]
  },
  {
   "cell_type": "markdown",
   "metadata": {},
   "source": [
    "We assume that the words with distance 1 have higer priority than words with distance 2\n",
    "and the words with distance 0 have higer priority than words with distance 1."
   ]
  },
  {
   "cell_type": "code",
   "execution_count": 4,
   "metadata": {
    "ExecuteTime": {
     "end_time": "2019-07-01T19:51:50.997273Z",
     "start_time": "2019-07-01T19:51:50.991289Z"
    }
   },
   "outputs": [],
   "source": [
    "# calculate the distance first and find the most correct word accoding to the disatance\n",
    "def correct(word):\n",
    "    # get the all eligible words\n",
    "    # if known is not empty, candidates wil choose this set and don't calculate the following\n",
    "    candidates = known([word]) or known(edits1(word)) or known(edits2(word)) or word\n",
    "    # if there is close words in the candidates\n",
    "    if word == candidates:\n",
    "        return word\n",
    "    \n",
    "    # if there is close words in the candidates and find the word with highest frequent \n",
    "    max_num = 0\n",
    "    for c in candidates:\n",
    "        if dict_words[c] >= max_num:\n",
    "            max_num = dict_words[c]\n",
    "            candidate = c\n",
    "    return candidate"
   ]
  },
  {
   "cell_type": "code",
   "execution_count": 5,
   "metadata": {
    "ExecuteTime": {
     "end_time": "2019-07-01T19:51:53.298113Z",
     "start_time": "2019-07-01T19:51:53.282147Z"
    }
   },
   "outputs": [
    {
     "data": {
      "text/plain": [
       "'smoothing'"
      ]
     },
     "execution_count": 5,
     "metadata": {},
     "output_type": "execute_result"
    }
   ],
   "source": [
    "correct('smoothig')"
   ]
  }
 ],
 "metadata": {
  "kernelspec": {
   "display_name": "Python 3",
   "language": "python",
   "name": "python3"
  },
  "language_info": {
   "codemirror_mode": {
    "name": "ipython",
    "version": 3
   },
   "file_extension": ".py",
   "mimetype": "text/x-python",
   "name": "python",
   "nbconvert_exporter": "python",
   "pygments_lexer": "ipython3",
   "version": "3.6.2"
  },
  "toc": {
   "base_numbering": 1,
   "nav_menu": {},
   "number_sections": true,
   "sideBar": true,
   "skip_h1_title": false,
   "title_cell": "Table of Contents",
   "title_sidebar": "Contents",
   "toc_cell": false,
   "toc_position": {},
   "toc_section_display": true,
   "toc_window_display": false
  },
  "varInspector": {
   "cols": {
    "lenName": 16,
    "lenType": 16,
    "lenVar": 40
   },
   "kernels_config": {
    "python": {
     "delete_cmd_postfix": "",
     "delete_cmd_prefix": "del ",
     "library": "var_list.py",
     "varRefreshCmd": "print(var_dic_list())"
    },
    "r": {
     "delete_cmd_postfix": ") ",
     "delete_cmd_prefix": "rm(",
     "library": "var_list.r",
     "varRefreshCmd": "cat(var_dic_list()) "
    }
   },
   "types_to_exclude": [
    "module",
    "function",
    "builtin_function_or_method",
    "instance",
    "_Feature"
   ],
   "window_display": false
  }
 },
 "nbformat": 4,
 "nbformat_minor": 2
}
