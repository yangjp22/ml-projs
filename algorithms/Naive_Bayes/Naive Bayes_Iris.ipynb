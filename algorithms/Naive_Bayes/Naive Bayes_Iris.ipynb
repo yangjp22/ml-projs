{
 "cells": [
  {
   "cell_type": "code",
   "execution_count": 1,
   "metadata": {
    "ExecuteTime": {
     "end_time": "2019-07-01T18:25:37.723341Z",
     "start_time": "2019-07-01T18:25:36.694093Z"
    }
   },
   "outputs": [],
   "source": [
    "# import the packages and dataset\n",
    "import numpy as np\n",
    "from sklearn import datasets\n",
    "from sklearn.model_selection import train_test_split\n",
    "from sklearn.metrics import classification_report,confusion_matrix\n",
    "from sklearn.naive_bayes import MultinomialNB,BernoulliNB,GaussianNB"
   ]
  },
  {
   "cell_type": "code",
   "execution_count": 2,
   "metadata": {
    "ExecuteTime": {
     "end_time": "2019-07-01T18:26:07.823886Z",
     "start_time": "2019-07-01T18:26:07.803908Z"
    }
   },
   "outputs": [],
   "source": [
    "# loading dataset and split into train set and test set\n",
    "iris = datasets.load_iris()\n",
    "x_train,x_test,y_train,y_test = train_test_split(iris.data, iris.target) "
   ]
  },
  {
   "cell_type": "code",
   "execution_count": 3,
   "metadata": {
    "ExecuteTime": {
     "end_time": "2019-07-01T18:28:10.218574Z",
     "start_time": "2019-07-01T18:28:10.184665Z"
    }
   },
   "outputs": [
    {
     "name": "stdout",
     "output_type": "stream",
     "text": [
      "0.2631578947368421\n",
      "              precision    recall  f1-score   support\n",
      "\n",
      "           0       0.00      0.00      0.00         0\n",
      "           1       1.00      0.26      0.42        38\n",
      "           2       0.00      0.00      0.00         0\n",
      "\n",
      "   micro avg       0.26      0.26      0.26        38\n",
      "   macro avg       0.33      0.09      0.14        38\n",
      "weighted avg       1.00      0.26      0.42        38\n",
      "\n",
      "[[ 0  0  0]\n",
      " [13 10 15]\n",
      " [ 0  0  0]]\n"
     ]
    },
    {
     "name": "stderr",
     "output_type": "stream",
     "text": [
      "d:\\language\\python\\lib\\site-packages\\sklearn\\metrics\\classification.py:1145: UndefinedMetricWarning: Recall and F-score are ill-defined and being set to 0.0 in labels with no true samples.\n",
      "  'recall', 'true', average, warn_for)\n"
     ]
    }
   ],
   "source": [
    "# Using the Bernoulli Naive Bayes\n",
    "ber_nb = BernoulliNB()\n",
    "ber_nb.fit(x_train,y_train)\n",
    "print(ber_nb.score(x_test, y_test))\n",
    "print(classification_report(ber_nb.predict(x_test),y_test))\n",
    "print(confusion_matrix(ber_nb.predict(x_test),y_test))"
   ]
  },
  {
   "cell_type": "code",
   "execution_count": 4,
   "metadata": {
    "ExecuteTime": {
     "end_time": "2019-07-01T18:29:10.131371Z",
     "start_time": "2019-07-01T18:29:10.118403Z"
    }
   },
   "outputs": [
    {
     "name": "stdout",
     "output_type": "stream",
     "text": [
      "0.7368421052631579\n",
      "              precision    recall  f1-score   support\n",
      "\n",
      "           0       1.00      1.00      1.00        13\n",
      "           1       1.00      0.50      0.67        20\n",
      "           2       0.33      1.00      0.50         5\n",
      "\n",
      "   micro avg       0.74      0.74      0.74        38\n",
      "   macro avg       0.78      0.83      0.72        38\n",
      "weighted avg       0.91      0.74      0.76        38\n",
      "\n",
      "[[13  0  0]\n",
      " [ 0 10 10]\n",
      " [ 0  0  5]]\n"
     ]
    }
   ],
   "source": [
    "# Using the Multinomial Naive Bayes\n",
    "mul_nb = MultinomialNB()\n",
    "mul_nb.fit(x_train,y_train)\n",
    "print(mul_nb.score(x_test, y_test))\n",
    "print(classification_report(mul_nb.predict(x_test),y_test))\n",
    "print(confusion_matrix(mul_nb.predict(x_test),y_test))"
   ]
  },
  {
   "cell_type": "code",
   "execution_count": 5,
   "metadata": {
    "ExecuteTime": {
     "end_time": "2019-07-01T18:29:58.003361Z",
     "start_time": "2019-07-01T18:29:57.980422Z"
    }
   },
   "outputs": [
    {
     "name": "stdout",
     "output_type": "stream",
     "text": [
      "0.9473684210526315\n",
      "              precision    recall  f1-score   support\n",
      "\n",
      "           0       1.00      1.00      1.00        13\n",
      "           1       1.00      0.83      0.91        12\n",
      "           2       0.87      1.00      0.93        13\n",
      "\n",
      "   micro avg       0.95      0.95      0.95        38\n",
      "   macro avg       0.96      0.94      0.95        38\n",
      "weighted avg       0.95      0.95      0.95        38\n",
      "\n",
      "[[13  0  0]\n",
      " [ 0 10  2]\n",
      " [ 0  0 13]]\n"
     ]
    }
   ],
   "source": [
    "# Using the Gaussian Naive Bayes\n",
    "Gau_nb = GaussianNB()\n",
    "Gau_nb.fit(x_train,y_train)\n",
    "print(Gau_nb.score(x_test, y_test))\n",
    "print(classification_report(Gau_nb.predict(x_test),y_test))\n",
    "print(confusion_matrix(Gau_nb.predict(x_test),y_test))"
   ]
  },
  {
   "cell_type": "markdown",
   "metadata": {
    "ExecuteTime": {
     "end_time": "2019-07-01T18:31:03.584997Z",
     "start_time": "2019-07-01T18:31:03.581008Z"
    }
   },
   "source": [
    "Based on the result above, it's clear that the Gaussian Naive Bayes performs better when the features are numeric"
   ]
  }
 ],
 "metadata": {
  "kernelspec": {
   "display_name": "Python 3",
   "language": "python",
   "name": "python3"
  },
  "language_info": {
   "codemirror_mode": {
    "name": "ipython",
    "version": 3
   },
   "file_extension": ".py",
   "mimetype": "text/x-python",
   "name": "python",
   "nbconvert_exporter": "python",
   "pygments_lexer": "ipython3",
   "version": "3.6.2"
  },
  "toc": {
   "base_numbering": 1,
   "nav_menu": {},
   "number_sections": true,
   "sideBar": true,
   "skip_h1_title": false,
   "title_cell": "Table of Contents",
   "title_sidebar": "Contents",
   "toc_cell": false,
   "toc_position": {},
   "toc_section_display": true,
   "toc_window_display": false
  },
  "varInspector": {
   "cols": {
    "lenName": 16,
    "lenType": 16,
    "lenVar": 40
   },
   "kernels_config": {
    "python": {
     "delete_cmd_postfix": "",
     "delete_cmd_prefix": "del ",
     "library": "var_list.py",
     "varRefreshCmd": "print(var_dic_list())"
    },
    "r": {
     "delete_cmd_postfix": ") ",
     "delete_cmd_prefix": "rm(",
     "library": "var_list.r",
     "varRefreshCmd": "cat(var_dic_list()) "
    }
   },
   "types_to_exclude": [
    "module",
    "function",
    "builtin_function_or_method",
    "instance",
    "_Feature"
   ],
   "window_display": false
  }
 },
 "nbformat": 4,
 "nbformat_minor": 2
}
