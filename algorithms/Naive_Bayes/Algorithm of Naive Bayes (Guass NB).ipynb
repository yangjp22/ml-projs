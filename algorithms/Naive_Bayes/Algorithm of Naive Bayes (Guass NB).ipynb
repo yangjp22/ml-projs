{
 "cells": [
  {
   "cell_type": "code",
   "execution_count": 1,
   "metadata": {
    "ExecuteTime": {
     "end_time": "2019-07-01T17:38:07.996474Z",
     "start_time": "2019-07-01T17:38:07.884774Z"
    }
   },
   "outputs": [],
   "source": [
    "import numpy as np\n",
    "import operator\n",
    "from collections import defaultdict"
   ]
  },
  {
   "cell_type": "code",
   "execution_count": 2,
   "metadata": {
    "ExecuteTime": {
     "end_time": "2019-07-01T17:38:09.628112Z",
     "start_time": "2019-07-01T17:38:09.615148Z"
    }
   },
   "outputs": [],
   "source": [
    "def getSigmaMean(dataSet, labels):\n",
    "    '''\n",
    "    Instruction: Naive Bayes trainging functions, the value is numeric\n",
    "    \n",
    "    Parameters:\n",
    "        dataSet - array of features and values\n",
    "        labels - tags of each event\n",
    "    \n",
    "    Returns:\n",
    "        finalSigmaMean - the mean and standard deviation of each tags\n",
    "            {0: [([avrg1, avrg2, ...] , [sigma1, sigma2, ...])], 1: [([avrg1, avrg2, ...], [sigma1, sigma2, ...])]...}\n",
    "    '''\n",
    "    # define a dict to store the average and std value, the key is the tag, value is a list consists of average and std of each features\n",
    "    finalSigmaMean = defaultdict(list)\n",
    "    # define a dict, the key is the tag, the value is a list consists of the row within the tag.\n",
    "    classDict = defaultdict(list)\n",
    "    # get the all labels\n",
    "    labelsList = list(set(labels))\n",
    "    labelsLength = len(set(labels))\n",
    "    length = len(dataSet)\n",
    "    # divide the rows into several groups\n",
    "    for i in range(length):\n",
    "        classDict[labels[i]].append(dataSet[i])\n",
    "\n",
    "    # calculate the mean and std for each group\n",
    "    for i in range(labelsLength):\n",
    "        # temporary storage\n",
    "        sigmaMean = []\n",
    "        Array = np.array(classDict[labelsList[i]])\n",
    "        # calculate the average and std for each col\n",
    "        average = np.mean(Array, axis=0)\n",
    "        std = np.std(Array, axis=0)\n",
    "        # to store the average and std for each col\n",
    "        means = []\n",
    "        stds = []\n",
    "        for eachmean, eachsigma in zip(average, std):\n",
    "            means.append(eachmean)\n",
    "            stds.append(eachsigma)\n",
    "            \n",
    "        sigmaMean.append((means, stds))\n",
    "        \n",
    "        finalSigmaMean[labelsList[i]] = np.array(sigmaMean)\n",
    "\n",
    "    return finalSigmaMean"
   ]
  },
  {
   "cell_type": "code",
   "execution_count": 3,
   "metadata": {
    "ExecuteTime": {
     "end_time": "2019-07-01T17:38:13.302319Z",
     "start_time": "2019-07-01T17:38:13.293315Z"
    }
   },
   "outputs": [],
   "source": [
    "def classerProb(labels):\n",
    "    '''\n",
    "    Instruction: calculate the prob of each tag\n",
    "    \n",
    "    Parameters: \n",
    "        labels: the label list\n",
    "        \n",
    "    Return:\n",
    "        prob of tags after log operation\n",
    "    \n",
    "    '''\n",
    "    # define a dict to store the number of each tag\n",
    "    classesDict = defaultdict(int)\n",
    "    # get the number of categories \n",
    "    labelNum = len(set(labels))\n",
    "    lengthLabels = len(labels)\n",
    "\n",
    "    probResults = defaultdict(float)\n",
    "    \n",
    "    # get the number of each type and store into the dict\n",
    "    for each in labels:\n",
    "        classesDict[each] += 1\n",
    "    \n",
    "    \n",
    "    for eachClass, eachNum in classesDict.items():\n",
    "        # calculate the prob for each tag, +1 and + lengthLabels is to use the laplace smoothing\n",
    "        eachProb = round(np.log((1 + eachNum) / (lengthLabels + labelNum), 10), 4)\n",
    "        \n",
    "        probResults[eachClass] = eachProb\n",
    "        \n",
    "    return probResults"
   ]
  },
  {
   "cell_type": "code",
   "execution_count": 4,
   "metadata": {
    "ExecuteTime": {
     "end_time": "2019-07-01T17:38:15.531329Z",
     "start_time": "2019-07-01T17:38:15.526343Z"
    }
   },
   "outputs": [],
   "source": [
    "def gaussProb( mean, sigam, x):\n",
    "    '''\n",
    "    Instruction: calculate the prob density under the Gauss distribution\n",
    "    \n",
    "    Parameters:\n",
    "        mean - the average of each features, get from getSigmaMean functions\n",
    "        sigma - the std of each features, get from getSigmaMean functions\n",
    "        x - input data\n",
    "    \n",
    "    Return:\n",
    "        prob density - the prob density belongs to each tag and the prob is the prob after log operation\n",
    "                        {0：prob1， 1： prob2 ...}\n",
    "                        \n",
    "    '''\n",
    "    zhiShu = -1 / 2 * np.log(2 * np.pi * sigam ** 2, 10)\n",
    "    diShu = np.log(np.exp(-(x - mean) ** 2 / (2 * sigam ** 2)), 10)\n",
    "    \n",
    "    return np.round(zhiShu + diShu, 4)"
   ]
  },
  {
   "cell_type": "code",
   "execution_count": 5,
   "metadata": {
    "ExecuteTime": {
     "end_time": "2019-07-01T17:38:18.480442Z",
     "start_time": "2019-07-01T17:38:18.473460Z"
    }
   },
   "outputs": [],
   "source": [
    "def NB_classify(trains, tlabels, testss):\n",
    "    '''\n",
    "    Instructions: the classification of Naive Bayes\n",
    "    \n",
    "    Parameters: \n",
    "        trains: the value of training dataset\n",
    "        tlabels: the labels of training dataset\n",
    "        testss: the testing dataset\n",
    "    \n",
    "    Returns:\n",
    "        \n",
    "    \n",
    "    '''\n",
    "    # training the dataset and get the mean and sigma\n",
    "    meanSigmas = getSigmaMean(trains, tlabels)\n",
    "    # calculate the prob of each label\n",
    "    classesProbs = classerProb(tlabels)\n",
    "    \n",
    "    tlabelsNumber = set(tlabels)\n",
    "    probDict = defaultdict(float)\n",
    "    \n",
    "    # calculate the prob density under of each feature\n",
    "    for twoClasser,classerInfos in meanSigmas.items():\n",
    "        # temporary summation of prob\n",
    "        sumProb = 0\n",
    "        # calculate the prob of feature i and sum all of them\n",
    "        sumProb = np.sum(gaussProb(classerInfos[0][0],classerInfos[0][1],testss))\n",
    "        # adding the prob density of tag\n",
    "        sumProb += classesProbs[twoClasser]\n",
    "        # store sumProb into dict\n",
    "        probDict[twoClasser] = sumProb\n",
    "    \n",
    "    # sort the dict by the prob density from maxmium to minmiun\n",
    "    finalList = sorted(probDict.items(),key = operator.itemgetter(1),reverse = True)\n",
    "    # return the tag under the maxmium prob\n",
    "    return finalList[0][0]"
   ]
  }
 ],
 "metadata": {
  "kernelspec": {
   "display_name": "Python 3",
   "language": "python",
   "name": "python3"
  },
  "toc": {
   "base_numbering": 1,
   "nav_menu": {},
   "number_sections": true,
   "sideBar": true,
   "skip_h1_title": false,
   "title_cell": "Table of Contents",
   "title_sidebar": "Contents",
   "toc_cell": false,
   "toc_position": {},
   "toc_section_display": true,
   "toc_window_display": false
  },
  "varInspector": {
   "cols": {
    "lenName": 16,
    "lenType": 16,
    "lenVar": 40
   },
   "kernels_config": {
    "python": {
     "delete_cmd_postfix": "",
     "delete_cmd_prefix": "del ",
     "library": "var_list.py",
     "varRefreshCmd": "print(var_dic_list())"
    },
    "r": {
     "delete_cmd_postfix": ") ",
     "delete_cmd_prefix": "rm(",
     "library": "var_list.r",
     "varRefreshCmd": "cat(var_dic_list()) "
    }
   },
   "types_to_exclude": [
    "module",
    "function",
    "builtin_function_or_method",
    "instance",
    "_Feature"
   ],
   "window_display": false
  }
 },
 "nbformat": 4,
 "nbformat_minor": 2
}
