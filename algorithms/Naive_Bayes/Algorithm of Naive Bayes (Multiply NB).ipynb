{
 "cells": [
  {
   "cell_type": "code",
   "execution_count": 1,
   "metadata": {
    "ExecuteTime": {
     "end_time": "2019-07-01T16:29:41.999824Z",
     "start_time": "2019-07-01T16:29:41.995834Z"
    }
   },
   "outputs": [],
   "source": [
    "import numpy as np"
   ]
  },
  {
   "cell_type": "code",
   "execution_count": 2,
   "metadata": {
    "ExecuteTime": {
     "end_time": "2019-07-01T16:42:36.878712Z",
     "start_time": "2019-07-01T16:42:36.867745Z"
    }
   },
   "outputs": [],
   "source": [
    "# training the naive bayes classificaiton\n",
    "def trainNB0(trainMatrix, trainCategory):\n",
    "    '''\n",
    "    input:\n",
    "        trainMatrix: the training dataset\n",
    "        trainCategory: the label, 0 and 1\n",
    "    \n",
    "    return:\n",
    "        the prob of each features to tag 1\n",
    "        the prob of each features to tag 0\n",
    "        the prob of tag1\n",
    "    \n",
    "    '''\n",
    "    # calcualte the number of training set\n",
    "    numTrainDocs = len(trainMatrix)\n",
    "    # calculate the number of features\n",
    "    numWords = len(trainMatrix[0])\n",
    "    # calculate the prob of label 1\n",
    "    pAbusive = sum(trainCategory) / float(numTrainDocs)\n",
    "\n",
    "    # initialize the frequency of each features in both tags\n",
    "    # set the value of 1, in order to Laplace smoothing\n",
    "    p0Num = np.ones(numWords)\n",
    "    p1Num = np.ones(numWords)\n",
    "\n",
    "    # initialize the denumerate of 2, using laplace smoothing\n",
    "    p0Denom = 2.0\n",
    "    p1Denom = 2.0\n",
    "\n",
    "    for i in range(numTrainDocs):\n",
    "\n",
    "    # count the date of label 1, P(w0|1),P(w1|1),P(w2|1)···\n",
    "    # P(w0 | 1) equals the counts of w0 in tags 1 divided by the counts of all words in tags 1\n",
    "        if trainCategory[i] == 1:\n",
    "            # here using the matrix operation, because the dimension of p1Num equals that of each row\n",
    "            p1Num += trainMatrix[i]\n",
    "            p1Denom += sum(trainMatrix[i])\n",
    "        \n",
    "        # count the date of label 0, P(w0|1),P(w1|1),P(w2|1)···\n",
    "        else:\n",
    "            p0Num += trainMatrix[i]\n",
    "            p0Denom += sum(trainMatrix[i])\n",
    "\n",
    "    # applying the log operation in case the product of prob is too small \n",
    "    p1Vect = np.log(p1Num/p1Denom)\n",
    "    p0Vect = np.log(p0Num/p0Denom)\n",
    "\n",
    "    return p0Vect, p1Vect, pAbusive\n"
   ]
  },
  {
   "cell_type": "code",
   "execution_count": 3,
   "metadata": {
    "ExecuteTime": {
     "end_time": "2019-07-01T16:46:28.307877Z",
     "start_time": "2019-07-01T16:46:28.300896Z"
    }
   },
   "outputs": [],
   "source": [
    "def classifyNB(vec2Classify, p0Vec, p1Vec, pClass1):\n",
    "    \n",
    "    \"\"\"\n",
    "    Parameters:\n",
    "        vec2Classify - the sentences will be classified\n",
    "        p0Vec - the prob arrays of features in tag 0\n",
    "        p1Vec - the prob arrays of features in tag 1\n",
    "        pClass1 - the prob of tag 1\n",
    "    Returns:\n",
    "        0 - the label 0\n",
    "        1 - the label 1\n",
    "\n",
    "\"\"\"\n",
    "    # calculate the prob of belonging to tag 1, tag 0, respectively. logA * B = logA + logB, so here should add the log(pClass1)\n",
    "    p1 = np.sum(vec2Classify * p1Vec) + np.log(pClass1)\n",
    "    p0 = np.sum(vec2Classify * p0Vec) + np.log(1.0 - pClass1)\n",
    "\n",
    "    # if there is no log operation, using multiplying other than adding of log\n",
    "    # p1 = reduce(lambda x,y: x * y, vec2Classify * p1Vec) * pClass1\n",
    "    # p0 = reduce(lambda x,y: x * y, vec2Classify * p0Vec) * (1.0 - pClass1)\n",
    "    print('p0:', p0)\n",
    "    print('p1:', p1)\n",
    "\n",
    "    if p1 > p0:\n",
    "        return 1\n",
    "    else:\n",
    "        return 0"
   ]
  },
  {
   "cell_type": "code",
   "execution_count": 4,
   "metadata": {
    "ExecuteTime": {
     "end_time": "2019-07-01T17:58:25.436864Z",
     "start_time": "2019-07-01T17:58:25.428885Z"
    }
   },
   "outputs": [],
   "source": [
    "def testingNB(testEntry, myVocabList, p0V, p1V, pAb):\n",
    "    '''\n",
    "    Instructions: testing the sample\n",
    "    \n",
    "    Parameters:\n",
    "        testEntry: the testing data\n",
    "        myVocabList: the vocabulary list\n",
    "        p0V: the prob arrays of features in tag 0\n",
    "        p1V: the prob arrays of features in tag 1\n",
    "        pAb: the prob of tag 1\n",
    "        \n",
    "    Returns:\n",
    "        the tag of test sample   \n",
    "    '''\n",
    "    # vectorize the test sample\n",
    "    thisDoc = np.array(wordSet2Vec(myVocabList, testEntry))\n",
    "\n",
    "    # return positive label\n",
    "    if classifyNB(thisDoc, p0V, p1V, pAb):\n",
    "        return 1\n",
    "    # return negative label 0\n",
    "    else:\n",
    "        return 0"
   ]
  }
 ],
 "metadata": {
  "kernelspec": {
   "display_name": "Python 3",
   "language": "python",
   "name": "python3"
  },
  "language_info": {
   "codemirror_mode": {
    "name": "ipython",
    "version": 3
   },
   "file_extension": ".py",
   "mimetype": "text/x-python",
   "name": "python",
   "nbconvert_exporter": "python",
   "pygments_lexer": "ipython3",
   "version": "3.6.2"
  },
  "toc": {
   "base_numbering": 1,
   "nav_menu": {},
   "number_sections": true,
   "sideBar": true,
   "skip_h1_title": false,
   "title_cell": "Table of Contents",
   "title_sidebar": "Contents",
   "toc_cell": false,
   "toc_position": {},
   "toc_section_display": true,
   "toc_window_display": false
  },
  "varInspector": {
   "cols": {
    "lenName": 16,
    "lenType": 16,
    "lenVar": 40
   },
   "kernels_config": {
    "python": {
     "delete_cmd_postfix": "",
     "delete_cmd_prefix": "del ",
     "library": "var_list.py",
     "varRefreshCmd": "print(var_dic_list())"
    },
    "r": {
     "delete_cmd_postfix": ") ",
     "delete_cmd_prefix": "rm(",
     "library": "var_list.r",
     "varRefreshCmd": "cat(var_dic_list()) "
    }
   },
   "types_to_exclude": [
    "module",
    "function",
    "builtin_function_or_method",
    "instance",
    "_Feature"
   ],
   "window_display": false
  }
 },
 "nbformat": 4,
 "nbformat_minor": 2
}
