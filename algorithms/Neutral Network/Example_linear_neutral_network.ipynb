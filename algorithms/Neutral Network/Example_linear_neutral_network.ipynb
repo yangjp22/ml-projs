{
 "cells": [
  {
   "cell_type": "code",
   "execution_count": 1,
   "metadata": {
    "ExecuteTime": {
     "end_time": "2019-07-03T18:23:20.331020Z",
     "start_time": "2019-07-03T18:23:19.085317Z"
    }
   },
   "outputs": [],
   "source": [
    "import numpy as np\n",
    "import matplotlib.pyplot as plt\n",
    "from sklearn.preprocessing import PolynomialFeatures\n",
    "%matplotlib inline"
   ]
  },
  {
   "cell_type": "code",
   "execution_count": 2,
   "metadata": {
    "ExecuteTime": {
     "end_time": "2019-07-03T18:23:25.659717Z",
     "start_time": "2019-07-03T18:23:25.471221Z"
    }
   },
   "outputs": [
    {
     "data": {
      "text/plain": [
       "<matplotlib.collections.PathCollection at 0x21157a6c2b0>"
      ]
     },
     "execution_count": 2,
     "metadata": {},
     "output_type": "execute_result"
    },
    {
     "data": {
      "image/png": "[encoded data removed]",
      "text/plain": [
       "<Figure size 432x288 with 1 Axes>"
      ]
     },
     "metadata": {
      "needs_background": "light"
     },
     "output_type": "display_data"
    }
   ],
   "source": [
    "x_data = np.array([[0, 0],\n",
    "          [0, 1],\n",
    "          [1, 0],\n",
    "          [1, 1]])\n",
    "y_data = np.array([[-1], [1], [1], [-1]])\n",
    "\n",
    "plt.scatter(x_data[:,0], x_data[:,1], c = y_data[:,0])"
   ]
  },
  {
   "cell_type": "code",
   "execution_count": 3,
   "metadata": {
    "ExecuteTime": {
     "end_time": "2019-07-03T18:23:28.637204Z",
     "start_time": "2019-07-03T18:23:28.631223Z"
    }
   },
   "outputs": [],
   "source": [
    "# adding the nonlinear items for x_data\n",
    "poly_reg = PolynomialFeatures(degree = 2)\n",
    "x_ = poly_reg.fit_transform(x_data)"
   ]
  },
  {
   "cell_type": "code",
   "execution_count": 4,
   "metadata": {
    "ExecuteTime": {
     "end_time": "2019-07-03T18:23:32.037206Z",
     "start_time": "2019-07-03T18:23:32.030221Z"
    }
   },
   "outputs": [],
   "source": [
    "def update(x_data, y_data, Ws, Lr):\n",
    "    '''\n",
    "    Instruction: to update the weights\n",
    "    \n",
    "    Parameters: \n",
    "        x_data: the input features\n",
    "        y_data: the real label\n",
    "        Ws: the weights that will be updated\n",
    "        Lr: learning rate\n",
    "    \n",
    "    Return:\n",
    "        new_Ws: the weights after updation\n",
    "    '''\n",
    "    output = np.dot(x_data,Ws)\n",
    "    Ws_C = Lr * (x_data.T.dot(y_data - output))/ int(x_data.shape[0])\n",
    "    new_Ws = Ws + Ws_C\n",
    "    return new_Ws"
   ]
  },
  {
   "cell_type": "code",
   "execution_count": 5,
   "metadata": {
    "ExecuteTime": {
     "end_time": "2019-07-03T18:23:34.125206Z",
     "start_time": "2019-07-03T18:23:34.101244Z"
    }
   },
   "outputs": [],
   "source": [
    "# initialize the weights, from -1 to 1, 6 x 1\n",
    "Ws = (np.random.random([6,1]) - 0.5) * 2\n",
    "lr = 0.11\n",
    "for _ in range(1000):\n",
    "    Ws = update(x_, y_data, Ws, lr)"
   ]
  },
  {
   "cell_type": "code",
   "execution_count": 6,
   "metadata": {
    "ExecuteTime": {
     "end_time": "2019-07-03T18:23:36.162556Z",
     "start_time": "2019-07-03T18:23:36.155576Z"
    }
   },
   "outputs": [],
   "source": [
    "# define a calculate function to get the parameters for decesion curve\n",
    "def calculate(x, W, root):\n",
    "    a = W[5]\n",
    "    b = W[2] + x * W[4] \n",
    "    c = x * x * W[3] + x * W[1]  + W[0]\n",
    "    \n",
    "    if root == 1:\n",
    "        return (-b + np.sqrt(b*b - 4 * a * c)) /(2 * a)\n",
    "    \n",
    "    if root == 2:\n",
    "        return (-b - np.sqrt(b*b - 4 * a * c)) / (2 * a)"
   ]
  },
  {
   "cell_type": "code",
   "execution_count": 7,
   "metadata": {
    "ExecuteTime": {
     "end_time": "2019-07-03T18:23:42.996756Z",
     "start_time": "2019-07-03T18:23:42.780336Z"
    }
   },
   "outputs": [
    {
     "data": {
      "text/plain": [
       "<matplotlib.collections.PathCollection at 0x21157b0ac18>"
      ]
     },
     "execution_count": 7,
     "metadata": {},
     "output_type": "execute_result"
    },
    {
     "data": {
      "image/png": "[encoded data removed]",
      "text/plain": [
       "<Figure size 1440x576 with 1 Axes>"
      ]
     },
     "metadata": {
      "needs_background": "light"
     },
     "output_type": "display_data"
    }
   ],
   "source": [
    "plt.figure(figsize = (20, 8))\n",
    "xdata = np.linspace(-0.5,1.5)\n",
    "plt.plot(xdata, calculate(xdata, Ws, 1), 'r')\n",
    "plt.plot(xdata, calculate(xdata, Ws, 2), 'r')\n",
    "plt.scatter(x_data[:,0], x_data[:,1], c = y_data[:,0])"
   ]
  },
  {
   "cell_type": "code",
   "execution_count": 8,
   "metadata": {
    "ExecuteTime": {
     "end_time": "2019-07-03T18:23:46.265711Z",
     "start_time": "2019-07-03T18:23:46.259730Z"
    }
   },
   "outputs": [
    {
     "name": "stdout",
     "output_type": "stream",
     "text": [
      "[[-0.98871025]\n",
      " [ 0.99246097]\n",
      " [ 0.99246097]\n",
      " [-0.99416646]]\n"
     ]
    }
   ],
   "source": [
    "print(np.dot(x_, Ws))"
   ]
  }
 ],
 "metadata": {
  "kernelspec": {
   "display_name": "Python 3",
   "language": "python",
   "name": "python3"
  },
  "toc": {
   "base_numbering": 1,
   "nav_menu": {},
   "number_sections": true,
   "sideBar": true,
   "skip_h1_title": false,
   "title_cell": "Table of Contents",
   "title_sidebar": "Contents",
   "toc_cell": false,
   "toc_position": {},
   "toc_section_display": true,
   "toc_window_display": false
  },
  "varInspector": {
   "cols": {
    "lenName": 16,
    "lenType": 16,
    "lenVar": 40
   },
   "kernels_config": {
    "python": {
     "delete_cmd_postfix": "",
     "delete_cmd_prefix": "del ",
     "library": "var_list.py",
     "varRefreshCmd": "print(var_dic_list())"
    },
    "r": {
     "delete_cmd_postfix": ") ",
     "delete_cmd_prefix": "rm(",
     "library": "var_list.r",
     "varRefreshCmd": "cat(var_dic_list()) "
    }
   },
   "types_to_exclude": [
    "module",
    "function",
    "builtin_function_or_method",
    "instance",
    "_Feature"
   ],
   "window_display": false
  }
 },
 "nbformat": 4,
 "nbformat_minor": 2
}
