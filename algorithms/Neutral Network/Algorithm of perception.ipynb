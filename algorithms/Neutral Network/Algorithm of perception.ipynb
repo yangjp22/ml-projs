{
 "cells": [
  {
   "cell_type": "code",
   "execution_count": 1,
   "metadata": {
    "ExecuteTime": {
     "end_time": "2019-07-03T16:59:18.304653Z",
     "start_time": "2019-07-03T16:59:18.299666Z"
    }
   },
   "outputs": [],
   "source": [
    "import numpy as np"
   ]
  },
  {
   "cell_type": "code",
   "execution_count": 2,
   "metadata": {
    "ExecuteTime": {
     "end_time": "2019-07-03T17:03:11.431617Z",
     "start_time": "2019-07-03T17:03:11.425635Z"
    }
   },
   "outputs": [],
   "source": [
    "def update(x_data, y_data, Ws, Lr):\n",
    "    '''\n",
    "    Instruction: to update the weights\n",
    "    \n",
    "    Parameters: \n",
    "        x_data: the input features\n",
    "        y_data: the real label\n",
    "        Ws: the weights that will be updated\n",
    "        Lr: learning rate\n",
    "    \n",
    "    Return:\n",
    "        new_Ws: the weights after updation\n",
    "    '''\n",
    "    output = np.sign(np.dot(x_data,Ws))\n",
    "    Ws_C = Lr * (x_data.T.dot(y_data - output))/ int(x_data.shape[0])\n",
    "    new_Ws = Ws + Ws_C\n",
    "    return new_Ws"
   ]
  }
 ],
 "metadata": {
  "kernelspec": {
   "display_name": "Python 3",
   "language": "python",
   "name": "python3"
  },
  "language_info": {
   "codemirror_mode": {
    "name": "ipython",
    "version": 3
   },
   "file_extension": ".py",
   "mimetype": "text/x-python",
   "name": "python",
   "nbconvert_exporter": "python",
   "pygments_lexer": "ipython3",
   "version": "3.6.2"
  },
  "toc": {
   "base_numbering": 1,
   "nav_menu": {},
   "number_sections": true,
   "sideBar": true,
   "skip_h1_title": false,
   "title_cell": "Table of Contents",
   "title_sidebar": "Contents",
   "toc_cell": false,
   "toc_position": {},
   "toc_section_display": true,
   "toc_window_display": false
  },
  "varInspector": {
   "cols": {
    "lenName": 16,
    "lenType": 16,
    "lenVar": 40
   },
   "kernels_config": {
    "python": {
     "delete_cmd_postfix": "",
     "delete_cmd_prefix": "del ",
     "library": "var_list.py",
     "varRefreshCmd": "print(var_dic_list())"
    },
    "r": {
     "delete_cmd_postfix": ") ",
     "delete_cmd_prefix": "rm(",
     "library": "var_list.r",
     "varRefreshCmd": "cat(var_dic_list()) "
    }
   },
   "types_to_exclude": [
    "module",
    "function",
    "builtin_function_or_method",
    "instance",
    "_Feature"
   ],
   "window_display": false
  }
 },
 "nbformat": 4,
 "nbformat_minor": 2
}
