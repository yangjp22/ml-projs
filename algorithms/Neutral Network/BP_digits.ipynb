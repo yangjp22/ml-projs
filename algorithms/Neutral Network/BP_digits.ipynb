{
 "cells": [
  {
   "cell_type": "code",
   "execution_count": 1,
   "metadata": {
    "ExecuteTime": {
     "end_time": "2019-07-03T18:30:25.280766Z",
     "start_time": "2019-07-03T18:30:24.644469Z"
    }
   },
   "outputs": [],
   "source": [
    "import numpy as np\n",
    "from sklearn.datasets import load_digits\n",
    "from sklearn.preprocessing import LabelBinarizer\n",
    "from sklearn.model_selection import train_test_split"
   ]
  },
  {
   "cell_type": "code",
   "execution_count": 2,
   "metadata": {
    "ExecuteTime": {
     "end_time": "2019-07-03T18:30:26.714666Z",
     "start_time": "2019-07-03T18:30:26.708681Z"
    }
   },
   "outputs": [],
   "source": [
    "def sigmoid(x):\n",
    "    return 1/(1+np.exp(-x))\n",
    "\n",
    "def dsigmoid(x):\n",
    "    return x*(1-x)"
   ]
  },
  {
   "cell_type": "code",
   "execution_count": 3,
   "metadata": {
    "ExecuteTime": {
     "end_time": "2019-07-03T18:30:28.378277Z",
     "start_time": "2019-07-03T18:30:28.365306Z"
    }
   },
   "outputs": [],
   "source": [
    "class NeuralNetwork:\n",
    "    def __init__(self,layers):#(64,100,10)\n",
    "        self.V = np.random.random((layers[0]+1,layers[1]+1))*2-1\n",
    "        self.W = np.random.random((layers[1]+1,layers[2]))*2-1\n",
    "        \n",
    "    def train(self,X,y,lr=0.11,epochs=10000):\n",
    "\n",
    "        temp = np.ones([X.shape[0],X.shape[1]+1])\n",
    "        temp[:,0:-1] = X\n",
    "        X = temp\n",
    "        \n",
    "        for n in range(epochs+1):\n",
    "            # adding the xo = 1\n",
    "            i = np.random.randint(X.shape[0]) \n",
    "            x = [X[i]]\n",
    "            x = np.atleast_2d(x)\n",
    "            \n",
    "            L1 = sigmoid(np.dot(x,self.V))\n",
    "            L2 = sigmoid(np.dot(L1,self.W))\n",
    "            \n",
    "            L2_delta = (y[i]-L2)*dsigmoid(L2)\n",
    "            L1_delta= L2_delta.dot(self.W.T)*dsigmoid(L1)\n",
    "            \n",
    "            self.W += lr*L1.T.dot(L2_delta)\n",
    "            self.V += lr*x.T.dot(L1_delta)\n",
    "            \n",
    "\n",
    "            if n%1000==0:\n",
    "                predictions = []\n",
    "                for j in range(X_test.shape[0]):\n",
    "                    o = self.predict(X_test[j])\n",
    "                    predictions.append(np.argmax(o))\n",
    "                accuracy = np.mean(np.equal(predictions,y_test))\n",
    "                print('epoch:',n,'accuracy:',accuracy)\n",
    "        \n",
    "    def predict(self,x):\n",
    "        temp = np.ones(x.shape[0]+1)\n",
    "        temp[0:-1] = x\n",
    "        x = temp\n",
    "        x = np.atleast_2d(x)\n",
    "\n",
    "        L1 = sigmoid(np.dot(x,self.V))\n",
    "        L2 = sigmoid(np.dot(L1,self.W))\n",
    "        return L2"
   ]
  },
  {
   "cell_type": "code",
   "execution_count": 4,
   "metadata": {
    "ExecuteTime": {
     "end_time": "2019-07-03T18:30:30.416946Z",
     "start_time": "2019-07-03T18:30:30.325448Z"
    }
   },
   "outputs": [],
   "source": [
    "digits = load_digits()\n",
    "X = digits.data\n",
    "y = digits.target\n",
    "\n",
    "X -= X.min()\n",
    "X /= X.max()\n",
    "\n",
    "X_train,X_test,y_train,y_test = train_test_split(X,y) \n",
    "\n",
    "labels_train = LabelBinarizer().fit_transform(y_train)\n",
    "labels_test = LabelBinarizer().fit_transform(y_test)"
   ]
  },
  {
   "cell_type": "code",
   "execution_count": 5,
   "metadata": {
    "ExecuteTime": {
     "end_time": "2019-07-03T18:30:34.434320Z",
     "start_time": "2019-07-03T18:30:32.958276Z"
    }
   },
   "outputs": [
    {
     "name": "stdout",
     "output_type": "stream",
     "text": [
      "start\n",
      "epoch: 0 accuracy: 0.11555555555555555\n",
      "epoch: 1000 accuracy: 0.5\n",
      "epoch: 2000 accuracy: 0.7155555555555555\n",
      "epoch: 3000 accuracy: 0.8022222222222222\n",
      "epoch: 4000 accuracy: 0.8977777777777778\n",
      "epoch: 5000 accuracy: 0.8933333333333333\n",
      "epoch: 6000 accuracy: 0.8911111111111111\n",
      "epoch: 7000 accuracy: 0.9133333333333333\n",
      "epoch: 8000 accuracy: 0.9177777777777778\n",
      "epoch: 9000 accuracy: 0.9266666666666666\n",
      "epoch: 10000 accuracy: 0.9266666666666666\n",
      "epoch: 11000 accuracy: 0.9355555555555556\n",
      "epoch: 12000 accuracy: 0.9377777777777778\n",
      "epoch: 13000 accuracy: 0.94\n",
      "epoch: 14000 accuracy: 0.9444444444444444\n",
      "epoch: 15000 accuracy: 0.9444444444444444\n",
      "epoch: 16000 accuracy: 0.9422222222222222\n",
      "epoch: 17000 accuracy: 0.9466666666666667\n",
      "epoch: 18000 accuracy: 0.9488888888888889\n",
      "epoch: 19000 accuracy: 0.9444444444444444\n",
      "epoch: 20000 accuracy: 0.94\n",
      "end\n"
     ]
    }
   ],
   "source": [
    "nm = NeuralNetwork([64,100,10])\n",
    "print('start')\n",
    "nm.train(X_train,labels_train,epochs=20000)\n",
    "print('end')"
   ]
  }
 ],
 "metadata": {
  "anaconda-cloud": {},
  "kernelspec": {
   "display_name": "Python 3",
   "language": "python",
   "name": "python3"
  },
  "language_info": {
   "codemirror_mode": {
    "name": "ipython",
    "version": 3
   },
   "file_extension": ".py",
   "mimetype": "text/x-python",
   "name": "python",
   "nbconvert_exporter": "python",
   "pygments_lexer": "ipython3",
   "version": "3.6.2"
  },
  "toc": {
   "base_numbering": 1,
   "nav_menu": {},
   "number_sections": true,
   "sideBar": true,
   "skip_h1_title": false,
   "title_cell": "Table of Contents",
   "title_sidebar": "Contents",
   "toc_cell": false,
   "toc_position": {},
   "toc_section_display": true,
   "toc_window_display": false
  },
  "varInspector": {
   "cols": {
    "lenName": 16,
    "lenType": 16,
    "lenVar": 40
   },
   "kernels_config": {
    "python": {
     "delete_cmd_postfix": "",
     "delete_cmd_prefix": "del ",
     "library": "var_list.py",
     "varRefreshCmd": "print(var_dic_list())"
    },
    "r": {
     "delete_cmd_postfix": ") ",
     "delete_cmd_prefix": "rm(",
     "library": "var_list.r",
     "varRefreshCmd": "cat(var_dic_list()) "
    }
   },
   "types_to_exclude": [
    "module",
    "function",
    "builtin_function_or_method",
    "instance",
    "_Feature"
   ],
   "window_display": false
  }
 },
 "nbformat": 4,
 "nbformat_minor": 1
}
