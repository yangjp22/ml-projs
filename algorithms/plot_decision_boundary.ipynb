{
 "cells": [
  {
   "cell_type": "code",
   "execution_count": 1,
   "metadata": {
    "ExecuteTime": {
     "end_time": "2019-07-01T15:48:31.416270Z",
     "start_time": "2019-07-01T15:48:31.178905Z"
    }
   },
   "outputs": [],
   "source": [
    "import numpy as np\n",
    "from matplotlib import pyplot as plt"
   ]
  },
  {
   "cell_type": "code",
   "execution_count": 2,
   "metadata": {
    "ExecuteTime": {
     "end_time": "2019-07-01T15:48:32.258018Z",
     "start_time": "2019-07-01T15:48:32.216133Z"
    }
   },
   "outputs": [],
   "source": [
    "def plot_decision_boundary(model, xArr, step = 0.05):\n",
    "    '''\n",
    "    input:\n",
    "        model: the model after fit\n",
    "        xArr: 2-D dimension dataset\n",
    "        step: adjust the density of the points\n",
    "    '''\n",
    "    xArr = np.array(xArr)\n",
    "    \n",
    "    # Set the maxmium and minmium, and give a small boundary\n",
    "    xMax, xMin = xArr[:, 0].max() + 0.5, xArr[:, 0].min() - 0.5\n",
    "    yMax, yMin = xArr[:, 1].max() + 0.5, xArr[:, 1].min() - 0.5\n",
    "    \n",
    "    # generate the grid for points\n",
    "    xx, yy = np.meshgrid(np.arange(xMin, xMax, step), np.arange(yMin, yMax, step))\n",
    "    \n",
    "    # generate the predictions by using model and adjust the dimension\n",
    "    z = model(np.c_[xx.ravel(), yy.ravel()]).reshape(xx.shape)\n",
    "    \n",
    "    plt.contourf(xx, yy, z, cmap=plt.cm.Spectral)"
   ]
  }
 ],
 "metadata": {
  "kernelspec": {
   "display_name": "Python 3",
   "language": "python",
   "name": "python3"
  },
  "language_info": {
   "codemirror_mode": {
    "name": "ipython",
    "version": 3
   },
   "file_extension": ".py",
   "mimetype": "text/x-python",
   "name": "python",
   "nbconvert_exporter": "python",
   "pygments_lexer": "ipython3",
   "version": "3.6.2"
  },
  "toc": {
   "base_numbering": 1,
   "nav_menu": {},
   "number_sections": true,
   "sideBar": true,
   "skip_h1_title": false,
   "title_cell": "Table of Contents",
   "title_sidebar": "Contents",
   "toc_cell": false,
   "toc_position": {},
   "toc_section_display": true,
   "toc_window_display": false
  },
  "varInspector": {
   "cols": {
    "lenName": 16,
    "lenType": 16,
    "lenVar": 40
   },
   "kernels_config": {
    "python": {
     "delete_cmd_postfix": "",
     "delete_cmd_prefix": "del ",
     "library": "var_list.py",
     "varRefreshCmd": "print(var_dic_list())"
    },
    "r": {
     "delete_cmd_postfix": ") ",
     "delete_cmd_prefix": "rm(",
     "library": "var_list.r",
     "varRefreshCmd": "cat(var_dic_list()) "
    }
   },
   "types_to_exclude": [
    "module",
    "function",
    "builtin_function_or_method",
    "instance",
    "_Feature"
   ],
   "window_display": false
  }
 },
 "nbformat": 4,
 "nbformat_minor": 2
}
