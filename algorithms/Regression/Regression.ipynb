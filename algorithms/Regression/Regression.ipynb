{
 "cells": [
  {
   "cell_type": "code",
   "execution_count": null,
   "metadata": {},
   "outputs": [],
   "source": [
    "import numpy as np"
   ]
  },
  {
   "cell_type": "markdown",
   "metadata": {
    "ExecuteTime": {
     "end_time": "2019-04-18T13:35:38.573824Z",
     "start_time": "2019-04-18T13:35:38.569864Z"
    }
   },
   "source": [
    "# 单元线性回归"
   ]
  },
  {
   "cell_type": "markdown",
   "metadata": {
    "ExecuteTime": {
     "end_time": "2019-04-18T13:36:56.158419Z",
     "start_time": "2019-04-18T13:36:56.154430Z"
    }
   },
   "source": [
    " ## 损失函数计算"
   ]
  },
  {
   "cell_type": "code",
   "execution_count": null,
   "metadata": {},
   "outputs": [],
   "source": [
    "# 计算损失函数\n",
    "def computerLoss(xData, yLabel, interception, slope):\n",
    "    '''\n",
    "    xData: the input of variables, m * (p + 1)\n",
    "    yLabel: the label, m * 1\n",
    "    interception: the interception of linear regression\n",
    "    slope: the slope of lineat regression\n",
    "    \n",
    "    '''\n",
    "    totalError = 0\n",
    "    length = len(xData)\n",
    "    for i in range(length):\n",
    "        error = interception + slope * xData[i] - yLabel[i]\n",
    "        totalError += error ** 2\n",
    "    return totalError / float(len(xData))"
   ]
  },
  {
   "cell_type": "markdown",
   "metadata": {},
   "source": [
    "## 梯度下降算法"
   ]
  },
  {
   "cell_type": "code",
   "execution_count": null,
   "metadata": {},
   "outputs": [],
   "source": [
    "# 梯度下降算法\n",
    "def gradientDescent(xData, yLabel, interception, slope, Lr, epochs):\n",
    "    '''\n",
    "    xData: the input of variables, m * (p + 1)\n",
    "    yLabel: the label, m * 1\n",
    "    interception: the interception of linear regression\n",
    "    slope: the slope of lineat regression\n",
    "    Lr: the learning rate\n",
    "    epochs: the maxmium of iterrations\n",
    "    \n",
    "    '''\n",
    "    number = len(xData)\n",
    "    # 循环epochs次\n",
    "    for j in range(epochs):\n",
    "        interception_grad = 0\n",
    "        slope_grad = 0\n",
    "        # 计算梯度之和再求平均\n",
    "        for i in range(number):\n",
    "            slope_grad += - 1.0/number *(slope * xData[i] + interception - yLabel[i]) * xData[i]\n",
    "            interception_grad += - 1.0/number *(slope * xData[i] + interception - yLabel[i])\n",
    "        # 更新权值\n",
    "        interception += interception_grad * Lr\n",
    "        slope += slope_grad * Lr\n",
    "        \n",
    "    return slope, interception"
   ]
  },
  {
   "cell_type": "markdown",
   "metadata": {
    "ExecuteTime": {
     "end_time": "2019-04-18T13:38:41.991502Z",
     "start_time": "2019-04-18T13:38:41.988506Z"
    }
   },
   "source": [
    "# 多元线性回归"
   ]
  },
  {
   "cell_type": "markdown",
   "metadata": {},
   "source": [
    "## 损失函数"
   ]
  },
  {
   "cell_type": "code",
   "execution_count": null,
   "metadata": {},
   "outputs": [],
   "source": [
    "# 计算损失函数\n",
    "def computerLoss(xData, yLabel, theta):\n",
    "    '''\n",
    "    xData: the input of variables, m * (p + 1),\n",
    "    yLabel: the label, m * 1\n",
    "    theta: the weights matrix of linear regression, (p + 1) * 1\n",
    "    \n",
    "    '''\n",
    "    totalError = 0\n",
    "    length = len(xData)\n",
    "    for i in range(length):\n",
    "        error = xData[i].dot(theta) - yLabel[i]\n",
    "        totalError += error ** 2\n",
    "    return totalError / float(len(xData))"
   ]
  },
  {
   "cell_type": "markdown",
   "metadata": {},
   "source": [
    "## 梯度下降算法"
   ]
  },
  {
   "cell_type": "code",
   "execution_count": 4,
   "metadata": {
    "ExecuteTime": {
     "end_time": "2019-04-18T13:39:54.971415Z",
     "start_time": "2019-04-18T13:39:54.964430Z"
    }
   },
   "outputs": [],
   "source": [
    "def multiRegression(xData, yLabel,theta, lr, epochs):\n",
    "    '''\n",
    "    xData: the input of variables, m * (p + 1)\n",
    "    yLabel: the label, m * 1\n",
    "    theta: the weights matrix of linear regression, (p + 1) * 1\n",
    "    lr: the learning rate\n",
    "    epochs: the maxmium of iterrations\n",
    "    \n",
    "    '''\n",
    "    rowNum, colNum = xData.shape\n",
    "    \n",
    "    # 逐步迭代\n",
    "    for iter in range(epochs):\n",
    "        # 将增量放入一个和theta相同大小的矩阵中\n",
    "        interTheta = np.zeros_like(theta)\n",
    "        # 逐列计算权重的增量\n",
    "        for col in range(colNum):\n",
    "            # summation 存储误差结果集\n",
    "            summation = 0\n",
    "            # 逐行计算误差结果\n",
    "            for row in range(rowNum):\n",
    "                summation += (xData[row,:].dot(interTheta) - yLabel[row]) * xData[row, col]\n",
    "            # 计算权重的增量\n",
    "            interTheta[j] += - 1.0 / rowNum * summation\n",
    "        # 更行权重\n",
    "        theta += interTheta * lr     \n",
    "    return theta"
   ]
  },
  {
   "cell_type": "markdown",
   "metadata": {},
   "source": [
    "## 标准方程算法"
   ]
  },
  {
   "cell_type": "code",
   "execution_count": null,
   "metadata": {},
   "outputs": [],
   "source": [
    "# 标准方程法求解回归参数\n",
    "def weights(xArr, yArr):\n",
    "    '''\n",
    "    xArr: the input of variables, m * (p + 1)\n",
    "    yArr: the labels, m * 1\n",
    "    '''\n",
    "    xMat = np.mat(xArr)\n",
    "    yMat = np.mat(yArr)\n",
    "    xTx = xMat.T*xMat # 矩阵乘法\n",
    "    # 计算矩阵的值,如果值为0，说明该矩阵没有逆矩阵\n",
    "    if np.linalg.det(xTx) == 0.0:\n",
    "        print(\"This matrix cannot do inverse\")\n",
    "        return\n",
    "    # xTx.I为xTx的逆矩阵\n",
    "    ws = xTx.I*xMat.T*yMat\n",
    "    return ws"
   ]
  },
  {
   "cell_type": "markdown",
   "metadata": {},
   "source": [
    "# 多项式回归"
   ]
  },
  {
   "cell_type": "code",
   "execution_count": null,
   "metadata": {},
   "outputs": [],
   "source": [
    "from sklearn.preprocessing import PolynomialFeatures\n",
    "# 定义多项式回归,degree的值可以调节多项式的特征\n",
    "poly = PolynomialFeatures(degree=5)\n",
    "# 特征处理\n",
    "xx_tr = poly.fit_transform(xx)\n",
    "# 再用线性回归模型即可"
   ]
  },
  {
   "cell_type": "markdown",
   "metadata": {},
   "source": [
    "# 岭回归"
   ]
  },
  {
   "cell_type": "markdown",
   "metadata": {
    "ExecuteTime": {
     "end_time": "2019-04-18T13:51:30.412383Z",
     "start_time": "2019-04-18T13:51:30.408394Z"
    }
   },
   "source": [
    "## 标准方程算法"
   ]
  },
  {
   "cell_type": "code",
   "execution_count": null,
   "metadata": {},
   "outputs": [],
   "source": [
    "# 岭回归标准方程法求解回归参数\n",
    "def weigths(xArr, yArr, lam):\n",
    "    '''\n",
    "    xArr: the input of variables, m * (p + 1)\n",
    "    yArr: the labels, m * 1\n",
    "    lam: the lambda parameter, float\n",
    "    '''\n",
    "    xMat = np.mat(xArr)\n",
    "    yMat = np.mat(yArr)\n",
    "    \n",
    "    xTx = xMat.T * xMat # 矩阵乘法\n",
    "    # 计算更新的矩阵\n",
    "    rxTx = xTx + lam * np.eye(xMat.shape[1]) \n",
    "    \n",
    "    # 计算矩阵的值,如果值为0，说明该矩阵没有逆矩阵\n",
    "    if np.linale.det(rxTx) == 0.0:\n",
    "        print('This matrix cannot do inverse!')\n",
    "        return \n",
    "    # xTx.I为xTx的逆矩阵\n",
    "    weights = rxTx.I * xMat * yMat\n",
    "    return weights"
   ]
  },
  {
   "cell_type": "markdown",
   "metadata": {},
   "source": [
    "## 调用包"
   ]
  },
  {
   "cell_type": "code",
   "execution_count": null,
   "metadata": {},
   "outputs": [],
   "source": [
    "alphas_to_test = np.linspace(0.001, 1)\n",
    "model = linear_model.RidgeCV(alphas=alphas_to_test, store_cv_values=True)\n",
    "model.fit(x_data, y_data)\n",
    "print(model.alpha_)\n",
    "print(model.cv_values_.shape)"
   ]
  },
  {
   "cell_type": "markdown",
   "metadata": {},
   "source": [
    "# LASSO"
   ]
  },
  {
   "cell_type": "code",
   "execution_count": null,
   "metadata": {},
   "outputs": [],
   "source": [
    "# 创建模型\n",
    "model = linear_model.LassoCV()\n",
    "model.fit(x_data, y_data)\n",
    "# lasso系数\n",
    "print(model.alpha_)\n",
    "# 相关系数\n",
    "print(model.coef_)"
   ]
  }
 ],
 "metadata": {
  "kernelspec": {
   "display_name": "Python 3",
   "language": "python",
   "name": "python3"
  },
  "language_info": {
   "codemirror_mode": {
    "name": "ipython",
    "version": 3
   },
   "file_extension": ".py",
   "mimetype": "text/x-python",
   "name": "python",
   "nbconvert_exporter": "python",
   "pygments_lexer": "ipython3",
   "version": "3.6.2"
  },
  "toc": {
   "base_numbering": 1,
   "nav_menu": {},
   "number_sections": true,
   "sideBar": true,
   "skip_h1_title": false,
   "title_cell": "Table of Contents",
   "title_sidebar": "Contents",
   "toc_cell": false,
   "toc_position": {},
   "toc_section_display": true,
   "toc_window_display": true
  },
  "varInspector": {
   "cols": {
    "lenName": 16,
    "lenType": 16,
    "lenVar": 40
   },
   "kernels_config": {
    "python": {
     "delete_cmd_postfix": "",
     "delete_cmd_prefix": "del ",
     "library": "var_list.py",
     "varRefreshCmd": "print(var_dic_list())"
    },
    "r": {
     "delete_cmd_postfix": ") ",
     "delete_cmd_prefix": "rm(",
     "library": "var_list.r",
     "varRefreshCmd": "cat(var_dic_list()) "
    }
   },
   "types_to_exclude": [
    "module",
    "function",
    "builtin_function_or_method",
    "instance",
    "_Feature"
   ],
   "window_display": false
  }
 },
 "nbformat": 4,
 "nbformat_minor": 2
}
