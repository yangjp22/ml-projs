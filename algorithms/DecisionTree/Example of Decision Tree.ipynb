{
 "cells": [
  {
   "cell_type": "code",
   "execution_count": 1,
   "metadata": {
    "ExecuteTime": {
     "end_time": "2019-07-02T22:36:36.197950Z",
     "start_time": "2019-07-02T22:36:34.949289Z"
    }
   },
   "outputs": [],
   "source": [
    "%matplotlib notebook\n",
    "from sklearn.feature_extraction import DictVectorizer\n",
    "from sklearn.feature_extraction.text import CountVectorizer\n",
    "from sklearn import tree\n",
    "from sklearn import preprocessing\n",
    "import csv\n",
    "import graphviz"
   ]
  },
  {
   "cell_type": "code",
   "execution_count": 2,
   "metadata": {
    "ExecuteTime": {
     "end_time": "2019-07-02T22:36:38.077347Z",
     "start_time": "2019-07-02T22:36:38.066377Z"
    }
   },
   "outputs": [
    {
     "name": "stdout",
     "output_type": "stream",
     "text": [
      "[{'age': 'youth', 'income': 'high', 'student': 'no', 'credit_rating': 'fair'}, {'age': 'youth', 'income': 'high', 'student': 'no', 'credit_rating': 'excellent'}, {'age': 'middle_aged', 'income': 'high', 'student': 'no', 'credit_rating': 'fair'}, {'age': 'senior', 'income': 'medium', 'student': 'no', 'credit_rating': 'fair'}, {'age': 'senior', 'income': 'low', 'student': 'yes', 'credit_rating': 'fair'}, {'age': 'senior', 'income': 'low', 'student': 'yes', 'credit_rating': 'excellent'}, {'age': 'middle_aged', 'income': 'low', 'student': 'yes', 'credit_rating': 'excellent'}, {'age': 'youth', 'income': 'medium', 'student': 'no', 'credit_rating': 'fair'}, {'age': 'youth', 'income': 'low', 'student': 'yes', 'credit_rating': 'fair'}, {'age': 'senior', 'income': 'medium', 'student': 'yes', 'credit_rating': 'fair'}, {'age': 'youth', 'income': 'medium', 'student': 'yes', 'credit_rating': 'excellent'}, {'age': 'middle_aged', 'income': 'medium', 'student': 'no', 'credit_rating': 'excellent'}, {'age': 'middle_aged', 'income': 'high', 'student': 'yes', 'credit_rating': 'fair'}, {'age': 'senior', 'income': 'medium', 'student': 'no', 'credit_rating': 'excellent'}]\n",
      "['no', 'no', 'yes', 'yes', 'yes', 'no', 'yes', 'no', 'yes', 'yes', 'yes', 'yes', 'yes', 'no']\n"
     ]
    }
   ],
   "source": [
    "filename = 'Electronics.csv'\n",
    "fp = open(filename, 'r') \n",
    "reader = csv.reader(fp)\n",
    "header = reader.__next__()\n",
    "\n",
    "labelList = []\n",
    "featureList = []\n",
    "\n",
    "for row in reader:\n",
    "    row_dict = {}\n",
    "    labelList.append(row[-1])\n",
    "    for i in range(1, len(row) - 1):\n",
    "        row_dict[header[i]] = row[i]\n",
    "    featureList.append(row_dict)\n",
    "\n",
    "print(featureList)\n",
    "print(labelList)"
   ]
  },
  {
   "cell_type": "code",
   "execution_count": 3,
   "metadata": {
    "ExecuteTime": {
     "end_time": "2019-07-02T22:36:41.399774Z",
     "start_time": "2019-07-02T22:36:41.389831Z"
    }
   },
   "outputs": [],
   "source": [
    "# transform the feature into vectors\n",
    "vec = DictVectorizer()\n",
    "x_data = vec.fit_transform(featureList).toarray()\n",
    "\n",
    "# transform the label into 0 and 1 label\n",
    "lb = preprocessing.LabelBinarizer()\n",
    "y_data = lb.fit_transform(labelList)"
   ]
  },
  {
   "cell_type": "code",
   "execution_count": 4,
   "metadata": {
    "ExecuteTime": {
     "end_time": "2019-07-02T22:36:45.080818Z",
     "start_time": "2019-07-02T22:36:45.070849Z"
    }
   },
   "outputs": [
    {
     "data": {
      "text/plain": [
       "DecisionTreeClassifier(class_weight=None, criterion='gini', max_depth=None,\n",
       "            max_features=None, max_leaf_nodes=None,\n",
       "            min_impurity_decrease=0.0, min_impurity_split=None,\n",
       "            min_samples_leaf=1, min_samples_split=2,\n",
       "            min_weight_fraction_leaf=0.0, presort=False, random_state=None,\n",
       "            splitter='best')"
      ]
     },
     "execution_count": 4,
     "metadata": {},
     "output_type": "execute_result"
    }
   ],
   "source": [
    "# create the decision tree model\n",
    "model = tree.DecisionTreeClassifier()\n",
    "model.fit(x_data, y_data)"
   ]
  },
  {
   "cell_type": "code",
   "execution_count": 5,
   "metadata": {
    "ExecuteTime": {
     "end_time": "2019-07-02T22:36:49.063935Z",
     "start_time": "2019-07-02T22:36:48.413372Z"
    }
   },
   "outputs": [
    {
     "data": {
      "text/plain": [
       "'Computer.pdf'"
      ]
     },
     "execution_count": 5,
     "metadata": {},
     "output_type": "execute_result"
    }
   ],
   "source": [
    "# exporting the decision tree\n",
    "dot_data = tree.export_graphviz(model,\n",
    "                                out_file = None,\n",
    "                               feature_names = vec.get_feature_names(),\n",
    "                               class_names=lb.classes_,\n",
    "                               filled=True,\n",
    "                               rounded=True,\n",
    "                               special_characters=True)\n",
    "\n",
    "graph = graphviz.Source(dot_data)\n",
    "# graph.render('Computer')"
   ]
  },
  {
   "cell_type": "code",
   "execution_count": 6,
   "metadata": {
    "ExecuteTime": {
     "end_time": "2019-07-02T22:37:02.412343Z",
     "start_time": "2019-07-02T22:37:02.250773Z"
    }
   },
   "outputs": [
    {
     "data": {
      "image/svg+xml": [
       "<?xml version=\"1.0\" encoding=\"UTF-8\" standalone=\"no\"?>\r\n",
       "<!DOCTYPE svg PUBLIC \"-//W3C//DTD SVG 1.1//EN\"\r\n",
       " \"http://www.w3.org/Graphics/SVG/1.1/DTD/svg11.dtd\">\r\n",
       "<!-- Generated by graphviz version 2.38.0 (20140413.2041)\r\n",
       " -->\r\n",
       "<!-- Title: Tree Pages: 1 -->\r\n",
       "<svg width=\"592pt\" height=\"552pt\"\r\n",
       " viewBox=\"0.00 0.00 591.50 552.00\" xmlns=\"http://www.w3.org/2000/svg\" xmlns:xlink=\"http://www.w3.org/1999/xlink\">\r\n",
       "<g id=\"graph0\" class=\"graph\" transform=\"scale(1 1) rotate(0) translate(4 548)\">\r\n",
       "<title>Tree</title>\r\n",
       "<polygon fill=\"white\" stroke=\"none\" points=\"-4,4 -4,-548 587.5,-548 587.5,4 -4,4\"/>\r\n",
       "<!-- 0 -->\r\n",
       "<g id=\"node1\" class=\"node\"><title>0</title>\r\n",
       "<path fill=\"#399de5\" fill-opacity=\"0.443137\" stroke=\"black\" d=\"M468.5,-544C468.5,-544 325.5,-544 325.5,-544 319.5,-544 313.5,-538 313.5,-532 313.5,-532 313.5,-473 313.5,-473 313.5,-467 319.5,-461 325.5,-461 325.5,-461 468.5,-461 468.5,-461 474.5,-461 480.5,-467 480.5,-473 480.5,-473 480.5,-532 480.5,-532 480.5,-538 474.5,-544 468.5,-544\"/>\r\n",
       "<text text-anchor=\"start\" x=\"321.5\" y=\"-528.8\" font-family=\"Helvetica,sans-Serif\" font-size=\"14.00\">age=middle_aged ≤ 0.5</text>\r\n",
       "<text text-anchor=\"start\" x=\"359.5\" y=\"-513.8\" font-family=\"Helvetica,sans-Serif\" font-size=\"14.00\">gini = 0.459</text>\r\n",
       "<text text-anchor=\"start\" x=\"353.5\" y=\"-498.8\" font-family=\"Helvetica,sans-Serif\" font-size=\"14.00\">samples = 14</text>\r\n",
       "<text text-anchor=\"start\" x=\"356.5\" y=\"-483.8\" font-family=\"Helvetica,sans-Serif\" font-size=\"14.00\">value = [5, 9]</text>\r\n",
       "<text text-anchor=\"start\" x=\"361\" y=\"-468.8\" font-family=\"Helvetica,sans-Serif\" font-size=\"14.00\">class = yes</text>\r\n",
       "</g>\r\n",
       "<!-- 1 -->\r\n",
       "<g id=\"node2\" class=\"node\"><title>1</title>\r\n",
       "<path fill=\"none\" stroke=\"black\" d=\"M384.5,-425C384.5,-425 279.5,-425 279.5,-425 273.5,-425 267.5,-419 267.5,-413 267.5,-413 267.5,-354 267.5,-354 267.5,-348 273.5,-342 279.5,-342 279.5,-342 384.5,-342 384.5,-342 390.5,-342 396.5,-348 396.5,-354 396.5,-354 396.5,-413 396.5,-413 396.5,-419 390.5,-425 384.5,-425\"/>\r\n",
       "<text text-anchor=\"start\" x=\"275.5\" y=\"-409.8\" font-family=\"Helvetica,sans-Serif\" font-size=\"14.00\">student=yes ≤ 0.5</text>\r\n",
       "<text text-anchor=\"start\" x=\"303\" y=\"-394.8\" font-family=\"Helvetica,sans-Serif\" font-size=\"14.00\">gini = 0.5</text>\r\n",
       "<text text-anchor=\"start\" x=\"288.5\" y=\"-379.8\" font-family=\"Helvetica,sans-Serif\" font-size=\"14.00\">samples = 10</text>\r\n",
       "<text text-anchor=\"start\" x=\"291.5\" y=\"-364.8\" font-family=\"Helvetica,sans-Serif\" font-size=\"14.00\">value = [5, 5]</text>\r\n",
       "<text text-anchor=\"start\" x=\"299.5\" y=\"-349.8\" font-family=\"Helvetica,sans-Serif\" font-size=\"14.00\">class = no</text>\r\n",
       "</g>\r\n",
       "<!-- 0&#45;&gt;1 -->\r\n",
       "<g id=\"edge1\" class=\"edge\"><title>0&#45;&gt;1</title>\r\n",
       "<path fill=\"none\" stroke=\"black\" d=\"M374.449,-460.907C369.609,-452.195 364.443,-442.897 359.441,-433.893\"/>\r\n",
       "<polygon fill=\"black\" stroke=\"black\" points=\"362.428,-432.063 354.512,-425.021 356.308,-435.462 362.428,-432.063\"/>\r\n",
       "<text text-anchor=\"middle\" x=\"347.644\" y=\"-445.359\" font-family=\"Helvetica,sans-Serif\" font-size=\"14.00\">True</text>\r\n",
       "</g>\r\n",
       "<!-- 12 -->\r\n",
       "<g id=\"node13\" class=\"node\"><title>12</title>\r\n",
       "<path fill=\"#399de5\" stroke=\"black\" d=\"M499.5,-417.5C499.5,-417.5 426.5,-417.5 426.5,-417.5 420.5,-417.5 414.5,-411.5 414.5,-405.5 414.5,-405.5 414.5,-361.5 414.5,-361.5 414.5,-355.5 420.5,-349.5 426.5,-349.5 426.5,-349.5 499.5,-349.5 499.5,-349.5 505.5,-349.5 511.5,-355.5 511.5,-361.5 511.5,-361.5 511.5,-405.5 511.5,-405.5 511.5,-411.5 505.5,-417.5 499.5,-417.5\"/>\r\n",
       "<text text-anchor=\"start\" x=\"434\" y=\"-402.3\" font-family=\"Helvetica,sans-Serif\" font-size=\"14.00\">gini = 0.0</text>\r\n",
       "<text text-anchor=\"start\" x=\"423.5\" y=\"-387.3\" font-family=\"Helvetica,sans-Serif\" font-size=\"14.00\">samples = 4</text>\r\n",
       "<text text-anchor=\"start\" x=\"422.5\" y=\"-372.3\" font-family=\"Helvetica,sans-Serif\" font-size=\"14.00\">value = [0, 4]</text>\r\n",
       "<text text-anchor=\"start\" x=\"427\" y=\"-357.3\" font-family=\"Helvetica,sans-Serif\" font-size=\"14.00\">class = yes</text>\r\n",
       "</g>\r\n",
       "<!-- 0&#45;&gt;12 -->\r\n",
       "<g id=\"edge12\" class=\"edge\"><title>0&#45;&gt;12</title>\r\n",
       "<path fill=\"none\" stroke=\"black\" d=\"M419.898,-460.907C426.185,-449.763 433.013,-437.658 439.342,-426.439\"/>\r\n",
       "<polygon fill=\"black\" stroke=\"black\" points=\"442.426,-428.096 444.29,-417.667 436.329,-424.657 442.426,-428.096\"/>\r\n",
       "<text text-anchor=\"middle\" x=\"451.002\" y=\"-438.049\" font-family=\"Helvetica,sans-Serif\" font-size=\"14.00\">False</text>\r\n",
       "</g>\r\n",
       "<!-- 2 -->\r\n",
       "<g id=\"node3\" class=\"node\"><title>2</title>\r\n",
       "<path fill=\"#e58139\" fill-opacity=\"0.749020\" stroke=\"black\" d=\"M301,-306C301,-306 207,-306 207,-306 201,-306 195,-300 195,-294 195,-294 195,-235 195,-235 195,-229 201,-223 207,-223 207,-223 301,-223 301,-223 307,-223 313,-229 313,-235 313,-235 313,-294 313,-294 313,-300 307,-306 301,-306\"/>\r\n",
       "<text text-anchor=\"start\" x=\"203\" y=\"-290.8\" font-family=\"Helvetica,sans-Serif\" font-size=\"14.00\">age=youth ≤ 0.5</text>\r\n",
       "<text text-anchor=\"start\" x=\"220.5\" y=\"-275.8\" font-family=\"Helvetica,sans-Serif\" font-size=\"14.00\">gini = 0.32</text>\r\n",
       "<text text-anchor=\"start\" x=\"214.5\" y=\"-260.8\" font-family=\"Helvetica,sans-Serif\" font-size=\"14.00\">samples = 5</text>\r\n",
       "<text text-anchor=\"start\" x=\"213.5\" y=\"-245.8\" font-family=\"Helvetica,sans-Serif\" font-size=\"14.00\">value = [4, 1]</text>\r\n",
       "<text text-anchor=\"start\" x=\"221.5\" y=\"-230.8\" font-family=\"Helvetica,sans-Serif\" font-size=\"14.00\">class = no</text>\r\n",
       "</g>\r\n",
       "<!-- 1&#45;&gt;2 -->\r\n",
       "<g id=\"edge2\" class=\"edge\"><title>1&#45;&gt;2</title>\r\n",
       "<path fill=\"none\" stroke=\"black\" d=\"M304.938,-341.907C299.07,-333.105 292.802,-323.703 286.741,-314.612\"/>\r\n",
       "<polygon fill=\"black\" stroke=\"black\" points=\"289.473,-312.4 281.014,-306.021 283.649,-316.283 289.473,-312.4\"/>\r\n",
       "</g>\r\n",
       "<!-- 7 -->\r\n",
       "<g id=\"node8\" class=\"node\"><title>7</title>\r\n",
       "<path fill=\"#399de5\" fill-opacity=\"0.749020\" stroke=\"black\" d=\"M477,-306C477,-306 343,-306 343,-306 337,-306 331,-300 331,-294 331,-294 331,-235 331,-235 331,-229 337,-223 343,-223 343,-223 477,-223 477,-223 483,-223 489,-229 489,-235 489,-235 489,-294 489,-294 489,-300 483,-306 477,-306\"/>\r\n",
       "<text text-anchor=\"start\" x=\"339\" y=\"-290.8\" font-family=\"Helvetica,sans-Serif\" font-size=\"14.00\">credit_rating=fair ≤ 0.5</text>\r\n",
       "<text text-anchor=\"start\" x=\"376.5\" y=\"-275.8\" font-family=\"Helvetica,sans-Serif\" font-size=\"14.00\">gini = 0.32</text>\r\n",
       "<text text-anchor=\"start\" x=\"370.5\" y=\"-260.8\" font-family=\"Helvetica,sans-Serif\" font-size=\"14.00\">samples = 5</text>\r\n",
       "<text text-anchor=\"start\" x=\"369.5\" y=\"-245.8\" font-family=\"Helvetica,sans-Serif\" font-size=\"14.00\">value = [1, 4]</text>\r\n",
       "<text text-anchor=\"start\" x=\"374\" y=\"-230.8\" font-family=\"Helvetica,sans-Serif\" font-size=\"14.00\">class = yes</text>\r\n",
       "</g>\r\n",
       "<!-- 1&#45;&gt;7 -->\r\n",
       "<g id=\"edge7\" class=\"edge\"><title>1&#45;&gt;7</title>\r\n",
       "<path fill=\"none\" stroke=\"black\" d=\"M359.062,-341.907C364.93,-333.105 371.198,-323.703 377.259,-314.612\"/>\r\n",
       "<polygon fill=\"black\" stroke=\"black\" points=\"380.351,-316.283 382.986,-306.021 374.527,-312.4 380.351,-316.283\"/>\r\n",
       "</g>\r\n",
       "<!-- 3 -->\r\n",
       "<g id=\"node4\" class=\"node\"><title>3</title>\r\n",
       "<path fill=\"none\" stroke=\"black\" d=\"M182,-187C182,-187 12,-187 12,-187 6,-187 0,-181 0,-175 0,-175 0,-116 0,-116 0,-110 6,-104 12,-104 12,-104 182,-104 182,-104 188,-104 194,-110 194,-116 194,-116 194,-175 194,-175 194,-181 188,-187 182,-187\"/>\r\n",
       "<text text-anchor=\"start\" x=\"8\" y=\"-171.8\" font-family=\"Helvetica,sans-Serif\" font-size=\"14.00\">credit_rating=excellent ≤ 0.5</text>\r\n",
       "<text text-anchor=\"start\" x=\"68\" y=\"-156.8\" font-family=\"Helvetica,sans-Serif\" font-size=\"14.00\">gini = 0.5</text>\r\n",
       "<text text-anchor=\"start\" x=\"57.5\" y=\"-141.8\" font-family=\"Helvetica,sans-Serif\" font-size=\"14.00\">samples = 2</text>\r\n",
       "<text text-anchor=\"start\" x=\"56.5\" y=\"-126.8\" font-family=\"Helvetica,sans-Serif\" font-size=\"14.00\">value = [1, 1]</text>\r\n",
       "<text text-anchor=\"start\" x=\"64.5\" y=\"-111.8\" font-family=\"Helvetica,sans-Serif\" font-size=\"14.00\">class = no</text>\r\n",
       "</g>\r\n",
       "<!-- 2&#45;&gt;3 -->\r\n",
       "<g id=\"edge3\" class=\"edge\"><title>2&#45;&gt;3</title>\r\n",
       "<path fill=\"none\" stroke=\"black\" d=\"M199.53,-222.907C186.621,-213.288 172.754,-202.953 159.519,-193.09\"/>\r\n",
       "<polygon fill=\"black\" stroke=\"black\" points=\"161.484,-190.19 151.374,-187.021 157.301,-195.803 161.484,-190.19\"/>\r\n",
       "</g>\r\n",
       "<!-- 6 -->\r\n",
       "<g id=\"node7\" class=\"node\"><title>6</title>\r\n",
       "<path fill=\"#e58139\" stroke=\"black\" d=\"M297.5,-179.5C297.5,-179.5 224.5,-179.5 224.5,-179.5 218.5,-179.5 212.5,-173.5 212.5,-167.5 212.5,-167.5 212.5,-123.5 212.5,-123.5 212.5,-117.5 218.5,-111.5 224.5,-111.5 224.5,-111.5 297.5,-111.5 297.5,-111.5 303.5,-111.5 309.5,-117.5 309.5,-123.5 309.5,-123.5 309.5,-167.5 309.5,-167.5 309.5,-173.5 303.5,-179.5 297.5,-179.5\"/>\r\n",
       "<text text-anchor=\"start\" x=\"232\" y=\"-164.3\" font-family=\"Helvetica,sans-Serif\" font-size=\"14.00\">gini = 0.0</text>\r\n",
       "<text text-anchor=\"start\" x=\"221.5\" y=\"-149.3\" font-family=\"Helvetica,sans-Serif\" font-size=\"14.00\">samples = 3</text>\r\n",
       "<text text-anchor=\"start\" x=\"220.5\" y=\"-134.3\" font-family=\"Helvetica,sans-Serif\" font-size=\"14.00\">value = [3, 0]</text>\r\n",
       "<text text-anchor=\"start\" x=\"228.5\" y=\"-119.3\" font-family=\"Helvetica,sans-Serif\" font-size=\"14.00\">class = no</text>\r\n",
       "</g>\r\n",
       "<!-- 2&#45;&gt;6 -->\r\n",
       "<g id=\"edge6\" class=\"edge\"><title>2&#45;&gt;6</title>\r\n",
       "<path fill=\"none\" stroke=\"black\" d=\"M256.429,-222.907C257.069,-212.204 257.762,-200.615 258.411,-189.776\"/>\r\n",
       "<polygon fill=\"black\" stroke=\"black\" points=\"261.912,-189.858 259.016,-179.667 254.925,-189.44 261.912,-189.858\"/>\r\n",
       "</g>\r\n",
       "<!-- 4 -->\r\n",
       "<g id=\"node5\" class=\"node\"><title>4</title>\r\n",
       "<path fill=\"#399de5\" stroke=\"black\" d=\"M114.5,-68C114.5,-68 41.5,-68 41.5,-68 35.5,-68 29.5,-62 29.5,-56 29.5,-56 29.5,-12 29.5,-12 29.5,-6 35.5,-0 41.5,-0 41.5,-0 114.5,-0 114.5,-0 120.5,-0 126.5,-6 126.5,-12 126.5,-12 126.5,-56 126.5,-56 126.5,-62 120.5,-68 114.5,-68\"/>\r\n",
       "<text text-anchor=\"start\" x=\"49\" y=\"-52.8\" font-family=\"Helvetica,sans-Serif\" font-size=\"14.00\">gini = 0.0</text>\r\n",
       "<text text-anchor=\"start\" x=\"38.5\" y=\"-37.8\" font-family=\"Helvetica,sans-Serif\" font-size=\"14.00\">samples = 1</text>\r\n",
       "<text text-anchor=\"start\" x=\"37.5\" y=\"-22.8\" font-family=\"Helvetica,sans-Serif\" font-size=\"14.00\">value = [0, 1]</text>\r\n",
       "<text text-anchor=\"start\" x=\"42\" y=\"-7.8\" font-family=\"Helvetica,sans-Serif\" font-size=\"14.00\">class = yes</text>\r\n",
       "</g>\r\n",
       "<!-- 3&#45;&gt;4 -->\r\n",
       "<g id=\"edge4\" class=\"edge\"><title>3&#45;&gt;4</title>\r\n",
       "<path fill=\"none\" stroke=\"black\" d=\"M89.9251,-103.726C88.4849,-95.4263 86.9651,-86.6671 85.5104,-78.2834\"/>\r\n",
       "<polygon fill=\"black\" stroke=\"black\" points=\"88.9362,-77.554 83.778,-68.2996 82.0392,-78.7508 88.9362,-77.554\"/>\r\n",
       "</g>\r\n",
       "<!-- 5 -->\r\n",
       "<g id=\"node6\" class=\"node\"><title>5</title>\r\n",
       "<path fill=\"#e58139\" stroke=\"black\" d=\"M229.5,-68C229.5,-68 156.5,-68 156.5,-68 150.5,-68 144.5,-62 144.5,-56 144.5,-56 144.5,-12 144.5,-12 144.5,-6 150.5,-0 156.5,-0 156.5,-0 229.5,-0 229.5,-0 235.5,-0 241.5,-6 241.5,-12 241.5,-12 241.5,-56 241.5,-56 241.5,-62 235.5,-68 229.5,-68\"/>\r\n",
       "<text text-anchor=\"start\" x=\"164\" y=\"-52.8\" font-family=\"Helvetica,sans-Serif\" font-size=\"14.00\">gini = 0.0</text>\r\n",
       "<text text-anchor=\"start\" x=\"153.5\" y=\"-37.8\" font-family=\"Helvetica,sans-Serif\" font-size=\"14.00\">samples = 1</text>\r\n",
       "<text text-anchor=\"start\" x=\"152.5\" y=\"-22.8\" font-family=\"Helvetica,sans-Serif\" font-size=\"14.00\">value = [1, 0]</text>\r\n",
       "<text text-anchor=\"start\" x=\"160.5\" y=\"-7.8\" font-family=\"Helvetica,sans-Serif\" font-size=\"14.00\">class = no</text>\r\n",
       "</g>\r\n",
       "<!-- 3&#45;&gt;5 -->\r\n",
       "<g id=\"edge5\" class=\"edge\"><title>3&#45;&gt;5</title>\r\n",
       "<path fill=\"none\" stroke=\"black\" d=\"M132.747,-103.726C140.663,-94.6966 149.056,-85.1235 156.983,-76.0816\"/>\r\n",
       "<polygon fill=\"black\" stroke=\"black\" points=\"159.845,-78.1263 163.806,-68.2996 154.582,-73.5117 159.845,-78.1263\"/>\r\n",
       "</g>\r\n",
       "<!-- 8 -->\r\n",
       "<g id=\"node9\" class=\"node\"><title>8</title>\r\n",
       "<path fill=\"none\" stroke=\"black\" d=\"M456,-187C456,-187 352,-187 352,-187 346,-187 340,-181 340,-175 340,-175 340,-116 340,-116 340,-110 346,-104 352,-104 352,-104 456,-104 456,-104 462,-104 468,-110 468,-116 468,-116 468,-175 468,-175 468,-181 462,-187 456,-187\"/>\r\n",
       "<text text-anchor=\"start\" x=\"348\" y=\"-171.8\" font-family=\"Helvetica,sans-Serif\" font-size=\"14.00\">income=low ≤ 0.5</text>\r\n",
       "<text text-anchor=\"start\" x=\"375\" y=\"-156.8\" font-family=\"Helvetica,sans-Serif\" font-size=\"14.00\">gini = 0.5</text>\r\n",
       "<text text-anchor=\"start\" x=\"364.5\" y=\"-141.8\" font-family=\"Helvetica,sans-Serif\" font-size=\"14.00\">samples = 2</text>\r\n",
       "<text text-anchor=\"start\" x=\"363.5\" y=\"-126.8\" font-family=\"Helvetica,sans-Serif\" font-size=\"14.00\">value = [1, 1]</text>\r\n",
       "<text text-anchor=\"start\" x=\"371.5\" y=\"-111.8\" font-family=\"Helvetica,sans-Serif\" font-size=\"14.00\">class = no</text>\r\n",
       "</g>\r\n",
       "<!-- 7&#45;&gt;8 -->\r\n",
       "<g id=\"edge8\" class=\"edge\"><title>7&#45;&gt;8</title>\r\n",
       "<path fill=\"none\" stroke=\"black\" d=\"M407.918,-222.907C407.49,-214.558 407.034,-205.671 406.591,-197.02\"/>\r\n",
       "<polygon fill=\"black\" stroke=\"black\" points=\"410.086,-196.828 406.078,-187.021 403.095,-197.187 410.086,-196.828\"/>\r\n",
       "</g>\r\n",
       "<!-- 11 -->\r\n",
       "<g id=\"node12\" class=\"node\"><title>11</title>\r\n",
       "<path fill=\"#399de5\" stroke=\"black\" d=\"M571.5,-179.5C571.5,-179.5 498.5,-179.5 498.5,-179.5 492.5,-179.5 486.5,-173.5 486.5,-167.5 486.5,-167.5 486.5,-123.5 486.5,-123.5 486.5,-117.5 492.5,-111.5 498.5,-111.5 498.5,-111.5 571.5,-111.5 571.5,-111.5 577.5,-111.5 583.5,-117.5 583.5,-123.5 583.5,-123.5 583.5,-167.5 583.5,-167.5 583.5,-173.5 577.5,-179.5 571.5,-179.5\"/>\r\n",
       "<text text-anchor=\"start\" x=\"506\" y=\"-164.3\" font-family=\"Helvetica,sans-Serif\" font-size=\"14.00\">gini = 0.0</text>\r\n",
       "<text text-anchor=\"start\" x=\"495.5\" y=\"-149.3\" font-family=\"Helvetica,sans-Serif\" font-size=\"14.00\">samples = 3</text>\r\n",
       "<text text-anchor=\"start\" x=\"494.5\" y=\"-134.3\" font-family=\"Helvetica,sans-Serif\" font-size=\"14.00\">value = [0, 3]</text>\r\n",
       "<text text-anchor=\"start\" x=\"499\" y=\"-119.3\" font-family=\"Helvetica,sans-Serif\" font-size=\"14.00\">class = yes</text>\r\n",
       "</g>\r\n",
       "<!-- 7&#45;&gt;11 -->\r\n",
       "<g id=\"edge11\" class=\"edge\"><title>7&#45;&gt;11</title>\r\n",
       "<path fill=\"none\" stroke=\"black\" d=\"M453.368,-222.907C465.864,-211.211 479.49,-198.457 491.966,-186.78\"/>\r\n",
       "<polygon fill=\"black\" stroke=\"black\" points=\"494.656,-189.056 499.565,-179.667 489.873,-183.945 494.656,-189.056\"/>\r\n",
       "</g>\r\n",
       "<!-- 9 -->\r\n",
       "<g id=\"node10\" class=\"node\"><title>9</title>\r\n",
       "<path fill=\"#399de5\" stroke=\"black\" d=\"M392.5,-68C392.5,-68 319.5,-68 319.5,-68 313.5,-68 307.5,-62 307.5,-56 307.5,-56 307.5,-12 307.5,-12 307.5,-6 313.5,-0 319.5,-0 319.5,-0 392.5,-0 392.5,-0 398.5,-0 404.5,-6 404.5,-12 404.5,-12 404.5,-56 404.5,-56 404.5,-62 398.5,-68 392.5,-68\"/>\r\n",
       "<text text-anchor=\"start\" x=\"327\" y=\"-52.8\" font-family=\"Helvetica,sans-Serif\" font-size=\"14.00\">gini = 0.0</text>\r\n",
       "<text text-anchor=\"start\" x=\"316.5\" y=\"-37.8\" font-family=\"Helvetica,sans-Serif\" font-size=\"14.00\">samples = 1</text>\r\n",
       "<text text-anchor=\"start\" x=\"315.5\" y=\"-22.8\" font-family=\"Helvetica,sans-Serif\" font-size=\"14.00\">value = [0, 1]</text>\r\n",
       "<text text-anchor=\"start\" x=\"320\" y=\"-7.8\" font-family=\"Helvetica,sans-Serif\" font-size=\"14.00\">class = yes</text>\r\n",
       "</g>\r\n",
       "<!-- 8&#45;&gt;9 -->\r\n",
       "<g id=\"edge9\" class=\"edge\"><title>8&#45;&gt;9</title>\r\n",
       "<path fill=\"none\" stroke=\"black\" d=\"M386.127,-103.726C382.408,-95.2439 378.48,-86.2819 374.731,-77.7312\"/>\r\n",
       "<polygon fill=\"black\" stroke=\"black\" points=\"377.817,-76.0531 370.597,-68.2996 371.406,-78.8635 377.817,-76.0531\"/>\r\n",
       "</g>\r\n",
       "<!-- 10 -->\r\n",
       "<g id=\"node11\" class=\"node\"><title>10</title>\r\n",
       "<path fill=\"#e58139\" stroke=\"black\" d=\"M507.5,-68C507.5,-68 434.5,-68 434.5,-68 428.5,-68 422.5,-62 422.5,-56 422.5,-56 422.5,-12 422.5,-12 422.5,-6 428.5,-0 434.5,-0 434.5,-0 507.5,-0 507.5,-0 513.5,-0 519.5,-6 519.5,-12 519.5,-12 519.5,-56 519.5,-56 519.5,-62 513.5,-68 507.5,-68\"/>\r\n",
       "<text text-anchor=\"start\" x=\"442\" y=\"-52.8\" font-family=\"Helvetica,sans-Serif\" font-size=\"14.00\">gini = 0.0</text>\r\n",
       "<text text-anchor=\"start\" x=\"431.5\" y=\"-37.8\" font-family=\"Helvetica,sans-Serif\" font-size=\"14.00\">samples = 1</text>\r\n",
       "<text text-anchor=\"start\" x=\"430.5\" y=\"-22.8\" font-family=\"Helvetica,sans-Serif\" font-size=\"14.00\">value = [1, 0]</text>\r\n",
       "<text text-anchor=\"start\" x=\"438.5\" y=\"-7.8\" font-family=\"Helvetica,sans-Serif\" font-size=\"14.00\">class = no</text>\r\n",
       "</g>\r\n",
       "<!-- 8&#45;&gt;10 -->\r\n",
       "<g id=\"edge10\" class=\"edge\"><title>8&#45;&gt;10</title>\r\n",
       "<path fill=\"none\" stroke=\"black\" d=\"M428.948,-103.726C434.306,-94.9703 439.976,-85.7032 445.359,-76.9051\"/>\r\n",
       "<polygon fill=\"black\" stroke=\"black\" points=\"448.391,-78.6563 450.625,-68.2996 442.42,-75.0028 448.391,-78.6563\"/>\r\n",
       "</g>\r\n",
       "</g>\r\n",
       "</svg>\r\n"
      ],
      "text/plain": [
       "<graphviz.files.Source at 0x15e4dda0630>"
      ]
     },
     "execution_count": 6,
     "metadata": {},
     "output_type": "execute_result"
    }
   ],
   "source": [
    "graph"
   ]
  }
 ],
 "metadata": {
  "kernelspec": {
   "display_name": "Python 3",
   "language": "python",
   "name": "python3"
  },
  "language_info": {
   "codemirror_mode": {
    "name": "ipython",
    "version": 3
   },
   "file_extension": ".py",
   "mimetype": "text/x-python",
   "name": "python",
   "nbconvert_exporter": "python",
   "pygments_lexer": "ipython3",
   "version": "3.6.2"
  },
  "toc": {
   "base_numbering": 1,
   "nav_menu": {},
   "number_sections": true,
   "sideBar": true,
   "skip_h1_title": false,
   "title_cell": "Table of Contents",
   "title_sidebar": "Contents",
   "toc_cell": false,
   "toc_position": {},
   "toc_section_display": true,
   "toc_window_display": false
  },
  "varInspector": {
   "cols": {
    "lenName": 16,
    "lenType": 16,
    "lenVar": 40
   },
   "kernels_config": {
    "python": {
     "delete_cmd_postfix": "",
     "delete_cmd_prefix": "del ",
     "library": "var_list.py",
     "varRefreshCmd": "print(var_dic_list())"
    },
    "r": {
     "delete_cmd_postfix": ") ",
     "delete_cmd_prefix": "rm(",
     "library": "var_list.r",
     "varRefreshCmd": "cat(var_dic_list()) "
    }
   },
   "types_to_exclude": [
    "module",
    "function",
    "builtin_function_or_method",
    "instance",
    "_Feature"
   ],
   "window_display": false
  }
 },
 "nbformat": 4,
 "nbformat_minor": 2
}
