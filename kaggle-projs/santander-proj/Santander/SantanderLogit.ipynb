{
 "cells": [
  {
   "cell_type": "code",
   "execution_count": 1,
   "metadata": {
    "ExecuteTime": {
     "end_time": "2019-08-04T21:40:17.276361Z",
     "start_time": "2019-08-04T21:40:15.286824Z"
    }
   },
   "outputs": [],
   "source": [
    "import numpy as np\n",
    "import pandas as pd\n",
    "import lightgbm as lgb\n",
    "from scipy.special import logit"
   ]
  },
  {
   "cell_type": "code",
   "execution_count": 2,
   "metadata": {
    "ExecuteTime": {
     "end_time": "2019-08-04T21:40:56.261616Z",
     "start_time": "2019-08-04T21:40:40.922598Z"
    }
   },
   "outputs": [],
   "source": [
    "train_df = pd.read_csv(\"./train.csv\")\n",
    "test_df = pd.read_csv(\"./test.csv\")"
   ]
  },
  {
   "cell_type": "code",
   "execution_count": 3,
   "metadata": {
    "ExecuteTime": {
     "end_time": "2019-08-04T21:42:32.100939Z",
     "start_time": "2019-08-04T21:42:32.095954Z"
    }
   },
   "outputs": [],
   "source": [
    "features = [x for x in train_df.columns if x.startswith(\"var\")]"
   ]
  },
  {
   "cell_type": "code",
   "execution_count": 5,
   "metadata": {
    "ExecuteTime": {
     "end_time": "2019-08-04T21:43:07.944819Z",
     "start_time": "2019-08-04T21:43:06.198499Z"
    }
   },
   "outputs": [],
   "source": [
    "for var in features:\n",
    "    if np.corrcoef(train_df['target'], train_df[var] )[1][0] < 0:\n",
    "        train_df[var] = train_df[var] * -1\n",
    "        test_df[var]  = test_df[var]  * -1"
   ]
  },
  {
   "cell_type": "code",
   "execution_count": 9,
   "metadata": {
    "ExecuteTime": {
     "end_time": "2019-08-04T21:47:09.001127Z",
     "start_time": "2019-08-04T21:46:25.862577Z"
    }
   },
   "outputs": [],
   "source": [
    "hist_df = pd.DataFrame()\n",
    "for var in features:\n",
    "    var_stats = train_df[var].append(test_df[var]).value_counts()\n",
    "    hist_df[var] = pd.Series(test_df[var]).map(var_stats)\n",
    "    hist_df[var] = hist_df[var] > 1\n",
    "    \n",
    "ind = hist_df.sum(axis=1) != 200\n",
    "var_stats = {var:train_df[var].append(test_df[ind][var]).value_counts() for var in features}"
   ]
  },
  {
   "cell_type": "code",
   "execution_count": 13,
   "metadata": {
    "ExecuteTime": {
     "end_time": "2019-08-04T21:50:16.168890Z",
     "start_time": "2019-08-04T21:48:44.443223Z"
    }
   },
   "outputs": [],
   "source": [
    "pred = 0\n",
    "for var in features:\n",
    "\n",
    "    model = lgb.LGBMClassifier(**{ 'learning_rate':0.06, 'max_bin': 165, 'max_depth': 5, 'min_child_samples': 153,\n",
    "        'min_child_weight': 0.1, 'min_split_gain': 0.0018, 'n_estimators': 41, 'num_leaves': 6, 'reg_alpha': 2.1,\n",
    "        'reg_lambda': 2.54, 'objective': 'binary', 'n_jobs': -1})\n",
    "        \n",
    "    model = model.fit(np.hstack([train_df[var].values.reshape(-1,1),\n",
    "                                 train_df[var].map(var_stats[var]).values.reshape(-1,1)]),\n",
    "                               train_df[\"target\"].values)\n",
    "    pred += logit(model.predict_proba(np.hstack([test_df[var].values.reshape(-1,1),\n",
    "                                 test_df[var].map(var_stats[var]).values.reshape(-1,1)]))[:,1])"
   ]
  },
  {
   "cell_type": "code",
   "execution_count": 14,
   "metadata": {
    "ExecuteTime": {
     "end_time": "2019-08-04T21:52:40.956154Z",
     "start_time": "2019-08-04T21:52:40.363726Z"
    }
   },
   "outputs": [],
   "source": [
    "pd.DataFrame({\"ID_code\":test_df[\"ID_code\"], \"target\":pred}).to_csv(\"submissionlogit.csv\", index=False)"
   ]
  }
 ],
 "metadata": {
  "kernelspec": {
   "display_name": "Python 3",
   "language": "python",
   "name": "python3"
  },
  "language_info": {
   "codemirror_mode": {
    "name": "ipython",
    "version": 3
   },
   "file_extension": ".py",
   "mimetype": "text/x-python",
   "name": "python",
   "nbconvert_exporter": "python",
   "pygments_lexer": "ipython3",
   "version": "3.6.2"
  },
  "toc": {
   "base_numbering": 1,
   "nav_menu": {},
   "number_sections": true,
   "sideBar": true,
   "skip_h1_title": false,
   "title_cell": "Table of Contents",
   "title_sidebar": "Contents",
   "toc_cell": false,
   "toc_position": {},
   "toc_section_display": true,
   "toc_window_display": false
  },
  "varInspector": {
   "cols": {
    "lenName": 16,
    "lenType": 16,
    "lenVar": 40
   },
   "kernels_config": {
    "python": {
     "delete_cmd_postfix": "",
     "delete_cmd_prefix": "del ",
     "library": "var_list.py",
     "varRefreshCmd": "print(var_dic_list())"
    },
    "r": {
     "delete_cmd_postfix": ") ",
     "delete_cmd_prefix": "rm(",
     "library": "var_list.r",
     "varRefreshCmd": "cat(var_dic_list()) "
    }
   },
   "types_to_exclude": [
    "module",
    "function",
    "builtin_function_or_method",
    "instance",
    "_Feature"
   ],
   "window_display": false
  }
 },
 "nbformat": 4,
 "nbformat_minor": 2
}
